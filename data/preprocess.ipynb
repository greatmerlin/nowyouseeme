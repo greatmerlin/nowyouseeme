{
 "cells": [
  {
   "cell_type": "code",
   "execution_count": null,
   "metadata": {},
   "outputs": [],
   "source": [
    "directory = [\"Dataset_complete/Trackpictures/nice_weather/nice_weather_thusis_filisur_20200827_pixelated/\",\n",
    "        \"Dataset_complete/Trackpictures/nice_weather/nice_weather_filisur_thusis_20200824_pixelated/\",\n",
    "       \"Dataset_complete/Trackpictures/night/night_thusis_filisur_20200828/\",\n",
    "       \"Dataset_complete/Trackpictures/bad_weather/bad_weather_thusis_filisur_20200829_pixelated/\"]\n",
    "\n",
    "files = ['nice_weather_thusis_filisur.csv', 'nice_weather_filisur_thusis.csv','night_thusis_filisur.csv',\n",
    "         'bad_weather_thusis_filisur.csv']"
   ]
  },
  {
   "cell_type": "code",
   "execution_count": null,
   "metadata": {},
   "outputs": [],
   "source": [
    "import os\n",
    "import piexif\n",
    "import csv\n",
    "\n",
    "for dir_,file_ in zip(directory,files):#print(dir_)\n",
    "    with open(file_,'w') as f1:\n",
    "        writer=csv.writer(f1, delimiter='\\t',lineterminator='\\n',)\n",
    "        for filename in os.listdir(dir_):\n",
    "            if filename.endswith(\".jpg\"):\n",
    "                input_ = []\n",
    "                input_.append(dir_+filename)\n",
    "                exif_dict = piexif.load(dir_+filename)\n",
    "                for tag in exif_dict[\"GPS\"]:\n",
    "                    if(piexif.TAGS[\"GPS\"][tag][\"name\"] in [\"GPSLatitude\",\"GPSLongitude\",\"GPSAltitude\"]):\n",
    "                        input_.append(exif_dict[\"GPS\"][tag][0]/1000000.0)\n",
    "                writer.writerow(input_)\n",
    "\n"
   ]
  },
  {
   "cell_type": "code",
   "execution_count": null,
   "metadata": {},
   "outputs": [],
   "source": [
    "from sklearn.preprocessing import StandardScaler\n",
    "import pandas as pd\n",
    "import numpy as np\n",
    "\n",
    "for file_ in files:\n",
    "    scaler = StandardScaler()\n",
    "    df = pd.read_csv(file_,header=None,sep=\"\\t\")\n",
    "    data = scaler.fit_transform(df.iloc[:,1:3].values)\n",
    "    df[4] = data[:,0]\n",
    "    df[5] = data[:,1]\n",
    "    df.columns = ['path', 'latitude', 'longitude', 'altitude', 'std_latitude','std_longitude']\n",
    "    df.to_csv(file_,index=False,sep=\"\\t\")"
   ]
  },
  {
   "cell_type": "code",
   "execution_count": null,
   "metadata": {},
   "outputs": [],
   "source": [
    "import matplotlib.pyplot as plt\n",
    "\n",
    "plt.scatter(data[:,0],data[:,1])"
   ]
  },
  {
   "cell_type": "code",
   "execution_count": null,
   "metadata": {},
   "outputs": [],
   "source": [
    "import matplotlib.pyplot as plt\n",
    "\n",
    "plt.scatter(data[:,0],data[:,1])"
   ]
  },
  {
   "cell_type": "code",
   "execution_count": 298,
   "metadata": {},
   "outputs": [],
   "source": [
    "import pandas as pd\n",
    "\n",
    "day = pd.read_csv(\"nowyouseeme/data/nice_weather_thusis_filisur.csv\")\n",
    "night = pd.read_csv(\"nowyouseeme/data/night_thusis_filisur.csv\")"
   ]
  },
  {
   "cell_type": "code",
   "execution_count": 299,
   "metadata": {},
   "outputs": [
    {
     "data": {
      "text/html": [
       "<div>\n",
       "<style scoped>\n",
       "    .dataframe tbody tr th:only-of-type {\n",
       "        vertical-align: middle;\n",
       "    }\n",
       "\n",
       "    .dataframe tbody tr th {\n",
       "        vertical-align: top;\n",
       "    }\n",
       "\n",
       "    .dataframe thead th {\n",
       "        text-align: right;\n",
       "    }\n",
       "</style>\n",
       "<table border=\"1\" class=\"dataframe\">\n",
       "  <thead>\n",
       "    <tr style=\"text-align: right;\">\n",
       "      <th></th>\n",
       "      <th>path</th>\n",
       "      <th>latitude</th>\n",
       "      <th>longitude</th>\n",
       "      <th>altitude</th>\n",
       "      <th>std_latitude</th>\n",
       "      <th>std_longitude</th>\n",
       "    </tr>\n",
       "  </thead>\n",
       "  <tbody>\n",
       "    <tr>\n",
       "      <th>0</th>\n",
       "      <td>Dataset_complete/Trackpictures/nice_weather/ni...</td>\n",
       "      <td>46.699552</td>\n",
       "      <td>9.440351</td>\n",
       "      <td>703.185</td>\n",
       "      <td>1.716624</td>\n",
       "      <td>-1.723879</td>\n",
       "    </tr>\n",
       "    <tr>\n",
       "      <th>1</th>\n",
       "      <td>Dataset_complete/Trackpictures/nice_weather/ni...</td>\n",
       "      <td>46.699552</td>\n",
       "      <td>9.440351</td>\n",
       "      <td>703.185</td>\n",
       "      <td>1.716624</td>\n",
       "      <td>-1.723879</td>\n",
       "    </tr>\n",
       "    <tr>\n",
       "      <th>2</th>\n",
       "      <td>Dataset_complete/Trackpictures/nice_weather/ni...</td>\n",
       "      <td>46.699476</td>\n",
       "      <td>9.440373</td>\n",
       "      <td>703.237</td>\n",
       "      <td>1.710810</td>\n",
       "      <td>-1.723586</td>\n",
       "    </tr>\n",
       "    <tr>\n",
       "      <th>3</th>\n",
       "      <td>Dataset_complete/Trackpictures/nice_weather/ni...</td>\n",
       "      <td>46.699476</td>\n",
       "      <td>9.440373</td>\n",
       "      <td>703.237</td>\n",
       "      <td>1.710810</td>\n",
       "      <td>-1.723586</td>\n",
       "    </tr>\n",
       "    <tr>\n",
       "      <th>4</th>\n",
       "      <td>Dataset_complete/Trackpictures/nice_weather/ni...</td>\n",
       "      <td>46.699476</td>\n",
       "      <td>9.440373</td>\n",
       "      <td>703.237</td>\n",
       "      <td>1.710810</td>\n",
       "      <td>-1.723586</td>\n",
       "    </tr>\n",
       "    <tr>\n",
       "      <th>...</th>\n",
       "      <td>...</td>\n",
       "      <td>...</td>\n",
       "      <td>...</td>\n",
       "      <td>...</td>\n",
       "      <td>...</td>\n",
       "      <td>...</td>\n",
       "    </tr>\n",
       "    <tr>\n",
       "      <th>4895</th>\n",
       "      <td>Dataset_complete/Trackpictures/nice_weather/ni...</td>\n",
       "      <td>46.675433</td>\n",
       "      <td>9.683147</td>\n",
       "      <td>1080.855</td>\n",
       "      <td>-0.128548</td>\n",
       "      <td>1.501823</td>\n",
       "    </tr>\n",
       "    <tr>\n",
       "      <th>4896</th>\n",
       "      <td>Dataset_complete/Trackpictures/nice_weather/ni...</td>\n",
       "      <td>46.675433</td>\n",
       "      <td>9.683147</td>\n",
       "      <td>1080.855</td>\n",
       "      <td>-0.128548</td>\n",
       "      <td>1.501823</td>\n",
       "    </tr>\n",
       "    <tr>\n",
       "      <th>4897</th>\n",
       "      <td>Dataset_complete/Trackpictures/nice_weather/ni...</td>\n",
       "      <td>46.675434</td>\n",
       "      <td>9.683183</td>\n",
       "      <td>1081.366</td>\n",
       "      <td>-0.128472</td>\n",
       "      <td>1.502301</td>\n",
       "    </tr>\n",
       "    <tr>\n",
       "      <th>4898</th>\n",
       "      <td>Dataset_complete/Trackpictures/nice_weather/ni...</td>\n",
       "      <td>46.675434</td>\n",
       "      <td>9.683183</td>\n",
       "      <td>1081.366</td>\n",
       "      <td>-0.128472</td>\n",
       "      <td>1.502301</td>\n",
       "    </tr>\n",
       "    <tr>\n",
       "      <th>4899</th>\n",
       "      <td>Dataset_complete/Trackpictures/nice_weather/ni...</td>\n",
       "      <td>46.675434</td>\n",
       "      <td>9.683183</td>\n",
       "      <td>1081.366</td>\n",
       "      <td>-0.128472</td>\n",
       "      <td>1.502301</td>\n",
       "    </tr>\n",
       "  </tbody>\n",
       "</table>\n",
       "<p>4900 rows × 6 columns</p>\n",
       "</div>"
      ],
      "text/plain": [
       "                                                   path   latitude  longitude  \\\n",
       "0     Dataset_complete/Trackpictures/nice_weather/ni...  46.699552   9.440351   \n",
       "1     Dataset_complete/Trackpictures/nice_weather/ni...  46.699552   9.440351   \n",
       "2     Dataset_complete/Trackpictures/nice_weather/ni...  46.699476   9.440373   \n",
       "3     Dataset_complete/Trackpictures/nice_weather/ni...  46.699476   9.440373   \n",
       "4     Dataset_complete/Trackpictures/nice_weather/ni...  46.699476   9.440373   \n",
       "...                                                 ...        ...        ...   \n",
       "4895  Dataset_complete/Trackpictures/nice_weather/ni...  46.675433   9.683147   \n",
       "4896  Dataset_complete/Trackpictures/nice_weather/ni...  46.675433   9.683147   \n",
       "4897  Dataset_complete/Trackpictures/nice_weather/ni...  46.675434   9.683183   \n",
       "4898  Dataset_complete/Trackpictures/nice_weather/ni...  46.675434   9.683183   \n",
       "4899  Dataset_complete/Trackpictures/nice_weather/ni...  46.675434   9.683183   \n",
       "\n",
       "      altitude  std_latitude  std_longitude  \n",
       "0      703.185      1.716624      -1.723879  \n",
       "1      703.185      1.716624      -1.723879  \n",
       "2      703.237      1.710810      -1.723586  \n",
       "3      703.237      1.710810      -1.723586  \n",
       "4      703.237      1.710810      -1.723586  \n",
       "...        ...           ...            ...  \n",
       "4895  1080.855     -0.128548       1.501823  \n",
       "4896  1080.855     -0.128548       1.501823  \n",
       "4897  1081.366     -0.128472       1.502301  \n",
       "4898  1081.366     -0.128472       1.502301  \n",
       "4899  1081.366     -0.128472       1.502301  \n",
       "\n",
       "[4900 rows x 6 columns]"
      ]
     },
     "execution_count": 299,
     "metadata": {},
     "output_type": "execute_result"
    }
   ],
   "source": [
    "day"
   ]
  },
  {
   "cell_type": "code",
   "execution_count": null,
   "metadata": {},
   "outputs": [],
   "source": [
    "from sklearn.cluster import KMeans\n",
    "import numpy as np\n",
    "from matplotlib import pyplot as plt\n",
    "\n",
    "X = np.array(day[['latitude','longitude']])\n",
    "#kmeans = KMeans(n_clusters=5, random_state=0).fit(X)\n",
    "distorsions = []\n",
    "\n",
    "for k in range(2, 20):\n",
    "    kmeans = KMeans(n_clusters=k)\n",
    "    kmeans.fit(X)\n",
    "    distorsions.append(kmeans.inertia_)\n",
    "\n",
    "fig = plt.figure(figsize=(15, 5))\n",
    "plt.plot(range(2, 20), distorsions)\n",
    "plt.grid(True)\n",
    "plt.title('Elbow curve')"
   ]
  },
  {
   "cell_type": "code",
   "execution_count": null,
   "metadata": {},
   "outputs": [],
   "source": [
    "X = np.array(day[['latitude','longitude']])\n",
    "kmeans = KMeans(n_clusters=7, random_state=0).fit(X)\n",
    "kmeans.labels_"
   ]
  },
  {
   "cell_type": "code",
   "execution_count": 319,
   "metadata": {},
   "outputs": [],
   "source": [
    "import pickle\n",
    "with open('kmeans.pickle', 'wb') as handle:\n",
    "    pickle.dump(kmeans, handle, protocol=pickle.HIGHEST_PROTOCOL)"
   ]
  },
  {
   "cell_type": "code",
   "execution_count": null,
   "metadata": {},
   "outputs": [],
   "source": [
    "print(np.array(Y).shape)\n",
    "print(np.array(Y).shape)"
   ]
  },
  {
   "cell_type": "code",
   "execution_count": null,
   "metadata": {},
   "outputs": [],
   "source": [
    "Y = []\n",
    "for i in range(0, X.shape[0]):\n",
    "    Y.append((kmeans.predict([X[i]])[0]))\n",
    "\n",
    "np.unique(Y)\n",
    "#plt.plot(X,np.array(Y),'o')\n",
    " "
   ]
  },
  {
   "cell_type": "code",
   "execution_count": 300,
   "metadata": {},
   "outputs": [],
   "source": [
    "dataset = pd.DataFrame({'path': day['path'], 'Column1': X[:, 0], 'Column2': X[:, 1],'Column3': Y})"
   ]
  },
  {
   "cell_type": "code",
   "execution_count": 301,
   "metadata": {},
   "outputs": [
    {
     "data": {
      "text/plain": [
       "<matplotlib.axes._subplots.AxesSubplot at 0x7f16f968d450>"
      ]
     },
     "execution_count": 301,
     "metadata": {},
     "output_type": "execute_result"
    },
    {
     "data": {
      "image/png": "[encoded data removed]",
      "text/plain": [
       "<Figure size 432x288 with 1 Axes>"
      ]
     },
     "metadata": {
      "needs_background": "light"
     },
     "output_type": "display_data"
    }
   ],
   "source": [
    "dataset.plot(x='Column1',y='Column2')"
   ]
  },
  {
   "cell_type": "code",
   "execution_count": 302,
   "metadata": {},
   "outputs": [
    {
     "data": {
      "image/png": "[encoded data removed]",
      "text/plain": [
       "<Figure size 432x288 with 1 Axes>"
      ]
     },
     "metadata": {
      "needs_background": "light"
     },
     "output_type": "display_data"
    }
   ],
   "source": [
    "groups = dataset.groupby('Column3')\n",
    "\n",
    "fig, ax = plt.subplots()\n",
    "ax.margins(0.05) # Optional, just adds 5% padding to the autoscaling\n",
    "for name, group in groups:\n",
    "    ax.plot(group.Column1, group.Column2, marker='o', linestyle='', ms=12, label=name)\n",
    "ax.legend()\n",
    "\n",
    "plt.show()"
   ]
  },
  {
   "cell_type": "code",
   "execution_count": null,
   "metadata": {},
   "outputs": [],
   "source": [
    "import torch\n",
    "import torch.nn as nn\n",
    "import torchvision.models as models\n",
    "import torchvision.transforms as transforms\n",
    "from torch.autograd import Variable\n",
    "from PIL import Image"
   ]
  },
  {
   "cell_type": "code",
   "execution_count": null,
   "metadata": {},
   "outputs": [],
   "source": [
    "# Load the pretrained model\n",
    "model = models.resnet18(pretrained=True)\n",
    "# Use the model object to select the desired layer\n",
    "layer = model._modules.get('avgpool')"
   ]
  },
  {
   "cell_type": "code",
   "execution_count": null,
   "metadata": {},
   "outputs": [],
   "source": [
    "# Set model to evaluation mode\n",
    "model.eval()"
   ]
  },
  {
   "cell_type": "code",
   "execution_count": null,
   "metadata": {},
   "outputs": [],
   "source": [
    "scaler = transforms.Scale((224, 224))\n",
    "normalize = transforms.Normalize(mean=[0.485, 0.456, 0.406],\n",
    "                                 std=[0.229, 0.224, 0.225])\n",
    "to_tensor = transforms.ToTensor()"
   ]
  },
  {
   "cell_type": "code",
   "execution_count": null,
   "metadata": {},
   "outputs": [],
   "source": [
    "from torchsummary import summary\n",
    "summary(model,(3,64,64))"
   ]
  },
  {
   "cell_type": "code",
   "execution_count": null,
   "metadata": {},
   "outputs": [],
   "source": [
    "def get_vector(image_name):\n",
    "    # 1. Load the image with Pillow library\n",
    "    img = Image.open(image_name)\n",
    "    # 2. Create a PyTorch Variable with the transformed image\n",
    "    t_img = Variable(normalize(to_tensor(scaler(img))).unsqueeze(0))\n",
    "    # 3. Create a vector of zeros that will hold our feature vector\n",
    "    #    The 'avgpool' layer has an output size of 512\n",
    "    my_embedding = torch.zeros(512)\n",
    "    # 4. Define a function that will copy the output of a layer\n",
    "    def copy_data(m, i, o):\n",
    "        my_embedding.copy_(o.data.reshape(o.data.size(1)))\n",
    "    # 5. Attach that function to our selected layer\n",
    "    h = layer.register_forward_hook(copy_data)\n",
    "    # 6. Run the model on our transformed image\n",
    "    model(t_img)\n",
    "    # 7. Detach our copy function from the layer\n",
    "    h.remove()\n",
    "    # 8. Return the feature vector\n",
    "    return my_embedding"
   ]
  },
  {
   "cell_type": "code",
   "execution_count": null,
   "metadata": {},
   "outputs": [],
   "source": [
    "feature_vectors = []\n",
    "for i in range(day.shape[0]):\n",
    "    feature_vectors.append(get_vector(day['path'][i]).numpy())"
   ]
  },
  {
   "cell_type": "code",
   "execution_count": 303,
   "metadata": {},
   "outputs": [],
   "source": [
    "fv = []\n",
    "for i in feature_vectors:\n",
    "    fv.append(i.numpy())"
   ]
  },
  {
   "cell_type": "code",
   "execution_count": 313,
   "metadata": {},
   "outputs": [],
   "source": [
    "day[\"feature_vectors\"] = feature_vectors\n",
    "#day[\"feature_vectors\"] = fv"
   ]
  },
  {
   "cell_type": "code",
   "execution_count": 283,
   "metadata": {},
   "outputs": [],
   "source": [
    "fv_array = np.array(fv).shape"
   ]
  },
  {
   "cell_type": "code",
   "execution_count": 314,
   "metadata": {},
   "outputs": [],
   "source": [
    "import pickle\n",
    "with open('feature_vector.pickle', 'wb') as handle:\n",
    "    pickle.dump(day, handle, protocol=pickle.HIGHEST_PROTOCOL)"
   ]
  },
  {
   "cell_type": "code",
   "execution_count": 315,
   "metadata": {},
   "outputs": [
    {
     "data": {
      "text/html": [
       "<div>\n",
       "<style scoped>\n",
       "    .dataframe tbody tr th:only-of-type {\n",
       "        vertical-align: middle;\n",
       "    }\n",
       "\n",
       "    .dataframe tbody tr th {\n",
       "        vertical-align: top;\n",
       "    }\n",
       "\n",
       "    .dataframe thead th {\n",
       "        text-align: right;\n",
       "    }\n",
       "</style>\n",
       "<table border=\"1\" class=\"dataframe\">\n",
       "  <thead>\n",
       "    <tr style=\"text-align: right;\">\n",
       "      <th></th>\n",
       "      <th>path</th>\n",
       "      <th>latitude</th>\n",
       "      <th>longitude</th>\n",
       "      <th>altitude</th>\n",
       "      <th>std_latitude</th>\n",
       "      <th>std_longitude</th>\n",
       "      <th>feature_vectors</th>\n",
       "    </tr>\n",
       "  </thead>\n",
       "  <tbody>\n",
       "    <tr>\n",
       "      <th>0</th>\n",
       "      <td>Dataset_complete/Trackpictures/nice_weather/ni...</td>\n",
       "      <td>46.699552</td>\n",
       "      <td>9.440351</td>\n",
       "      <td>703.185</td>\n",
       "      <td>1.716624</td>\n",
       "      <td>-1.723879</td>\n",
       "      <td>[tensor(1.8698), tensor(3.1618), tensor(1.6428...</td>\n",
       "    </tr>\n",
       "    <tr>\n",
       "      <th>1</th>\n",
       "      <td>Dataset_complete/Trackpictures/nice_weather/ni...</td>\n",
       "      <td>46.699552</td>\n",
       "      <td>9.440351</td>\n",
       "      <td>703.185</td>\n",
       "      <td>1.716624</td>\n",
       "      <td>-1.723879</td>\n",
       "      <td>[tensor(2.0170), tensor(2.8036), tensor(1.6879...</td>\n",
       "    </tr>\n",
       "    <tr>\n",
       "      <th>2</th>\n",
       "      <td>Dataset_complete/Trackpictures/nice_weather/ni...</td>\n",
       "      <td>46.699476</td>\n",
       "      <td>9.440373</td>\n",
       "      <td>703.237</td>\n",
       "      <td>1.710810</td>\n",
       "      <td>-1.723586</td>\n",
       "      <td>[tensor(2.1227), tensor(3.4470), tensor(2.0281...</td>\n",
       "    </tr>\n",
       "    <tr>\n",
       "      <th>3</th>\n",
       "      <td>Dataset_complete/Trackpictures/nice_weather/ni...</td>\n",
       "      <td>46.699476</td>\n",
       "      <td>9.440373</td>\n",
       "      <td>703.237</td>\n",
       "      <td>1.710810</td>\n",
       "      <td>-1.723586</td>\n",
       "      <td>[tensor(2.8811), tensor(3.2254), tensor(2.2800...</td>\n",
       "    </tr>\n",
       "    <tr>\n",
       "      <th>4</th>\n",
       "      <td>Dataset_complete/Trackpictures/nice_weather/ni...</td>\n",
       "      <td>46.699476</td>\n",
       "      <td>9.440373</td>\n",
       "      <td>703.237</td>\n",
       "      <td>1.710810</td>\n",
       "      <td>-1.723586</td>\n",
       "      <td>[tensor(2.4509), tensor(2.5642), tensor(2.3871...</td>\n",
       "    </tr>\n",
       "    <tr>\n",
       "      <th>...</th>\n",
       "      <td>...</td>\n",
       "      <td>...</td>\n",
       "      <td>...</td>\n",
       "      <td>...</td>\n",
       "      <td>...</td>\n",
       "      <td>...</td>\n",
       "      <td>...</td>\n",
       "    </tr>\n",
       "    <tr>\n",
       "      <th>4895</th>\n",
       "      <td>Dataset_complete/Trackpictures/nice_weather/ni...</td>\n",
       "      <td>46.675433</td>\n",
       "      <td>9.683147</td>\n",
       "      <td>1080.855</td>\n",
       "      <td>-0.128548</td>\n",
       "      <td>1.501823</td>\n",
       "      <td>[tensor(3.1145), tensor(1.9387), tensor(1.8053...</td>\n",
       "    </tr>\n",
       "    <tr>\n",
       "      <th>4896</th>\n",
       "      <td>Dataset_complete/Trackpictures/nice_weather/ni...</td>\n",
       "      <td>46.675433</td>\n",
       "      <td>9.683147</td>\n",
       "      <td>1080.855</td>\n",
       "      <td>-0.128548</td>\n",
       "      <td>1.501823</td>\n",
       "      <td>[tensor(3.5077), tensor(1.8265), tensor(1.5524...</td>\n",
       "    </tr>\n",
       "    <tr>\n",
       "      <th>4897</th>\n",
       "      <td>Dataset_complete/Trackpictures/nice_weather/ni...</td>\n",
       "      <td>46.675434</td>\n",
       "      <td>9.683183</td>\n",
       "      <td>1081.366</td>\n",
       "      <td>-0.128472</td>\n",
       "      <td>1.502301</td>\n",
       "      <td>[tensor(3.0435), tensor(1.4334), tensor(1.5848...</td>\n",
       "    </tr>\n",
       "    <tr>\n",
       "      <th>4898</th>\n",
       "      <td>Dataset_complete/Trackpictures/nice_weather/ni...</td>\n",
       "      <td>46.675434</td>\n",
       "      <td>9.683183</td>\n",
       "      <td>1081.366</td>\n",
       "      <td>-0.128472</td>\n",
       "      <td>1.502301</td>\n",
       "      <td>[tensor(3.8073), tensor(1.6699), tensor(1.5337...</td>\n",
       "    </tr>\n",
       "    <tr>\n",
       "      <th>4899</th>\n",
       "      <td>Dataset_complete/Trackpictures/nice_weather/ni...</td>\n",
       "      <td>46.675434</td>\n",
       "      <td>9.683183</td>\n",
       "      <td>1081.366</td>\n",
       "      <td>-0.128472</td>\n",
       "      <td>1.502301</td>\n",
       "      <td>[tensor(3.6309), tensor(1.8045), tensor(1.5213...</td>\n",
       "    </tr>\n",
       "  </tbody>\n",
       "</table>\n",
       "<p>4900 rows × 7 columns</p>\n",
       "</div>"
      ],
      "text/plain": [
       "                                                   path   latitude  longitude  \\\n",
       "0     Dataset_complete/Trackpictures/nice_weather/ni...  46.699552   9.440351   \n",
       "1     Dataset_complete/Trackpictures/nice_weather/ni...  46.699552   9.440351   \n",
       "2     Dataset_complete/Trackpictures/nice_weather/ni...  46.699476   9.440373   \n",
       "3     Dataset_complete/Trackpictures/nice_weather/ni...  46.699476   9.440373   \n",
       "4     Dataset_complete/Trackpictures/nice_weather/ni...  46.699476   9.440373   \n",
       "...                                                 ...        ...        ...   \n",
       "4895  Dataset_complete/Trackpictures/nice_weather/ni...  46.675433   9.683147   \n",
       "4896  Dataset_complete/Trackpictures/nice_weather/ni...  46.675433   9.683147   \n",
       "4897  Dataset_complete/Trackpictures/nice_weather/ni...  46.675434   9.683183   \n",
       "4898  Dataset_complete/Trackpictures/nice_weather/ni...  46.675434   9.683183   \n",
       "4899  Dataset_complete/Trackpictures/nice_weather/ni...  46.675434   9.683183   \n",
       "\n",
       "      altitude  std_latitude  std_longitude  \\\n",
       "0      703.185      1.716624      -1.723879   \n",
       "1      703.185      1.716624      -1.723879   \n",
       "2      703.237      1.710810      -1.723586   \n",
       "3      703.237      1.710810      -1.723586   \n",
       "4      703.237      1.710810      -1.723586   \n",
       "...        ...           ...            ...   \n",
       "4895  1080.855     -0.128548       1.501823   \n",
       "4896  1080.855     -0.128548       1.501823   \n",
       "4897  1081.366     -0.128472       1.502301   \n",
       "4898  1081.366     -0.128472       1.502301   \n",
       "4899  1081.366     -0.128472       1.502301   \n",
       "\n",
       "                                        feature_vectors  \n",
       "0     [tensor(1.8698), tensor(3.1618), tensor(1.6428...  \n",
       "1     [tensor(2.0170), tensor(2.8036), tensor(1.6879...  \n",
       "2     [tensor(2.1227), tensor(3.4470), tensor(2.0281...  \n",
       "3     [tensor(2.8811), tensor(3.2254), tensor(2.2800...  \n",
       "4     [tensor(2.4509), tensor(2.5642), tensor(2.3871...  \n",
       "...                                                 ...  \n",
       "4895  [tensor(3.1145), tensor(1.9387), tensor(1.8053...  \n",
       "4896  [tensor(3.5077), tensor(1.8265), tensor(1.5524...  \n",
       "4897  [tensor(3.0435), tensor(1.4334), tensor(1.5848...  \n",
       "4898  [tensor(3.8073), tensor(1.6699), tensor(1.5337...  \n",
       "4899  [tensor(3.6309), tensor(1.8045), tensor(1.5213...  \n",
       "\n",
       "[4900 rows x 7 columns]"
      ]
     },
     "execution_count": 315,
     "metadata": {},
     "output_type": "execute_result"
    }
   ],
   "source": [
    "day"
   ]
  },
  {
   "cell_type": "code",
   "execution_count": null,
   "metadata": {},
   "outputs": [],
   "source": [
    "day.to_csv(\"nice_weather_thusis_filisur_withFeatureVector.csv\")"
   ]
  },
  {
   "cell_type": "code",
   "execution_count": null,
   "metadata": {},
   "outputs": [],
   "source": [
    "#pic_one = str(input(\"Input first image name\\n\"))\n",
    "#pic_two = str(input(\"Input second image name\\n\"))\n",
    "\n",
    "#for i in range(100):\n",
    "pic_one_vector = get_vector(\"Dataset_complete/Trackpictures/nice_weather/nice_weather_thusis_filisur_20200827_pixelated/image_00117.jpg\")\n",
    "pic_two_vector = get_vector(\"Dataset_complete/Trackpictures/bad_weather/bad_weather_thusis_filisur_20200829_pixelated/image_00001.jpg\")\n",
    "\n",
    "# Using PyTorch Cosine Similarity\n",
    "cos = nn.CosineSimilarity(dim=1, eps=1e-6)\n",
    "cos_sim = cos(pic_one_vector.unsqueeze(0),\n",
    "          pic_two_vector.unsqueeze(0))\n",
    "print('\\nCosine similarity: {0}\\n'.format(cos_sim))\n"
   ]
  },
  {
   "cell_type": "code",
   "execution_count": null,
   "metadata": {},
   "outputs": [],
   "source": [
    "import piexif\n",
    "import operator\n",
    "import tensorflow as tf\n",
    "import pickle\n",
    "\n",
    "real_image = \"Dataset_complete/Trackpictures/bad_weather/bad_weather_thusis_filisur_20200829_pixelated/image_00001.jpg\"\n",
    "real_image_gps = []\n",
    "#day = pd.read_csv(\"nice_weather_thusis_filisur_withFeatureVector.csv\")\n",
    "with open('feature_vector.pickle', 'rb') as handle:\n",
    "    day = pickle.load(handle)\n",
    "with open('kmeans.pickle', 'rb') as handle:\n",
    "    kmeans = pickle.load(handle)\n",
    "    \n",
    "exif_dict = piexif.load(real_image)\n",
    "for tag in exif_dict[\"GPS\"]:\n",
    "    if(piexif.TAGS[\"GPS\"][tag][\"name\"] in [\"GPSLatitude\",\"GPSLongitude\"]):\n",
    "        real_image_gps.append(exif_dict[\"GPS\"][tag][0]/1000000.0)\n",
    "        \n",
    "real_image_cluster = kmeans.predict([np.array(real_image_gps)])[0]"
   ]
  },
  {
   "cell_type": "code",
   "execution_count": 317,
   "metadata": {},
   "outputs": [],
   "source": [
    "real_image_feature_vector = get_vector(real_image)\n",
    "similar_images = {}\n",
    "\n",
    "for img_path in groups.get_group(real_image_cluster).path:\n",
    "    image_vector = day.loc[day['path'] == img_path]['feature_vectors'].values[0]\n",
    "    cos = nn.CosineSimilarity(dim=1, eps=1e-6)\n",
    "    cos_sim = cos(real_image_feature_vector.unsqueeze(0),\n",
    "          image_vector.unsqueeze(0))\n",
    "    similar_images[img_path] = cos_sim\n",
    "\n",
    "similar_img_path = max(similar_images.items(), key=operator.itemgetter(1))[0]\n",
    "\n"
   ]
  },
  {
   "cell_type": "code",
   "execution_count": 318,
   "metadata": {},
   "outputs": [
    {
     "data": {
      "text/plain": [
       "'Dataset_complete/Trackpictures/nice_weather/nice_weather_thusis_filisur_20200827_pixelated/image_00122.jpg'"
      ]
     },
     "execution_count": 318,
     "metadata": {},
     "output_type": "execute_result"
    }
   ],
   "source": [
    "similar_img_path"
   ]
  },
  {
   "cell_type": "code",
   "execution_count": null,
   "metadata": {},
   "outputs": [],
   "source": []
  }
 ],
 "metadata": {
  "kernelspec": {
   "display_name": "Python 3",
   "language": "python",
   "name": "python3"
  },
  "language_info": {
   "codemirror_mode": {
    "name": "ipython",
    "version": 3
   },
   "file_extension": ".py",
   "mimetype": "text/x-python",
   "name": "python",
   "nbconvert_exporter": "python",
   "pygments_lexer": "ipython3",
   "version": "3.7.6"
  }
 },
 "nbformat": 4,
 "nbformat_minor": 4
}
