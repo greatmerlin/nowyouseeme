{
 "cells": [
  {
   "cell_type": "code",
   "execution_count": null,
   "metadata": {},
   "outputs": [],
   "source": [
    "directory = [\"Dataset_complete/Trackpictures/nice_weather/nice_weather_thusis_filisur_20200827_pixelated/\",\n",
    "        \"Dataset_complete/Trackpictures/nice_weather/nice_weather_filisur_thusis_20200824_pixelated/\",\n",
    "       \"Dataset_complete/Trackpictures/night/night_thusis_filisur_20200828/\",\n",
    "       \"Dataset_complete/Trackpictures/bad_weather/bad_weather_thusis_filisur_20200829_pixelated/\"]\n",
    "\n",
    "files = ['nice_weather_thusis_filisur.csv', 'nice_weather_filisur_thusis.csv','night_thusis_filisur.csv',\n",
    "         'bad_weather_thusis_filisur.csv']"
   ]
  },
  {
   "cell_type": "code",
   "execution_count": null,
   "metadata": {},
   "outputs": [],
   "source": [
    "import os\n",
    "import piexif\n",
    "import csv\n",
    "\n",
    "for dir_,file_ in zip(directory,files):#print(dir_)\n",
    "    with open(file_,'w') as f1:\n",
    "        writer=csv.writer(f1, delimiter='\\t',lineterminator='\\n',)\n",
    "        for filename in os.listdir(dir_):\n",
    "            if filename.endswith(\".jpg\"):\n",
    "                input_ = []\n",
    "                input_.append(dir_+filename)\n",
    "                exif_dict = piexif.load(dir_+filename)\n",
    "                for tag in exif_dict[\"GPS\"]:\n",
    "                    if(piexif.TAGS[\"GPS\"][tag][\"name\"] in [\"GPSLatitude\",\"GPSLongitude\",\"GPSAltitude\"]):\n",
    "                        input_.append(exif_dict[\"GPS\"][tag][0]/1000000.0)\n",
    "                writer.writerow(input_)\n",
    "\n"
   ]
  },
  {
   "cell_type": "code",
   "execution_count": null,
   "metadata": {},
   "outputs": [],
   "source": [
    "from sklearn.preprocessing import StandardScaler\n",
    "import pandas as pd\n",
    "import numpy as np\n",
    "\n",
    "for file_ in files:\n",
    "    scaler = StandardScaler()\n",
    "    df = pd.read_csv(file_,header=None,sep=\"\\t\")\n",
    "    data = scaler.fit_transform(df.iloc[:,1:3].values)\n",
    "    df[4] = data[:,0]\n",
    "    df[5] = data[:,1]\n",
    "    df.columns = ['path', 'latitude', 'longitude', 'altitude', 'std_latitude','std_longitude']\n",
    "    df.to_csv(file_,index=False,sep=\"\\t\")"
   ]
  },
  {
   "cell_type": "code",
   "execution_count": null,
   "metadata": {},
   "outputs": [],
   "source": [
    "import matplotlib.pyplot as plt\n",
    "\n",
    "plt.scatter(data[:,0],data[:,1])"
   ]
  },
  {
   "cell_type": "code",
   "execution_count": null,
   "metadata": {},
   "outputs": [],
   "source": [
    "import matplotlib.pyplot as plt\n",
    "\n",
    "plt.scatter(data[:,0],data[:,1])"
   ]
  },
  {
   "cell_type": "code",
   "execution_count": 537,
   "metadata": {},
   "outputs": [],
   "source": [
    "import pandas as pd\n",
    "\n",
    "day = pd.read_csv(\"nowyouseeme/data/nice_weather_thusis_filisur.csv\")\n",
    "night = pd.read_csv(\"nowyouseeme/data/night_thusis_filisur.csv\")"
   ]
  },
  {
   "cell_type": "code",
   "execution_count": 538,
   "metadata": {},
   "outputs": [
    {
     "data": {
      "text/html": [
       "<div>\n",
       "<style scoped>\n",
       "    .dataframe tbody tr th:only-of-type {\n",
       "        vertical-align: middle;\n",
       "    }\n",
       "\n",
       "    .dataframe tbody tr th {\n",
       "        vertical-align: top;\n",
       "    }\n",
       "\n",
       "    .dataframe thead th {\n",
       "        text-align: right;\n",
       "    }\n",
       "</style>\n",
       "<table border=\"1\" class=\"dataframe\">\n",
       "  <thead>\n",
       "    <tr style=\"text-align: right;\">\n",
       "      <th></th>\n",
       "      <th>path</th>\n",
       "      <th>latitude</th>\n",
       "      <th>longitude</th>\n",
       "      <th>altitude</th>\n",
       "      <th>std_latitude</th>\n",
       "      <th>std_longitude</th>\n",
       "    </tr>\n",
       "  </thead>\n",
       "  <tbody>\n",
       "    <tr>\n",
       "      <th>0</th>\n",
       "      <td>Dataset_complete/Trackpictures/nice_weather/ni...</td>\n",
       "      <td>46.699552</td>\n",
       "      <td>9.440351</td>\n",
       "      <td>703.185</td>\n",
       "      <td>1.716624</td>\n",
       "      <td>-1.723879</td>\n",
       "    </tr>\n",
       "    <tr>\n",
       "      <th>1</th>\n",
       "      <td>Dataset_complete/Trackpictures/nice_weather/ni...</td>\n",
       "      <td>46.699552</td>\n",
       "      <td>9.440351</td>\n",
       "      <td>703.185</td>\n",
       "      <td>1.716624</td>\n",
       "      <td>-1.723879</td>\n",
       "    </tr>\n",
       "    <tr>\n",
       "      <th>2</th>\n",
       "      <td>Dataset_complete/Trackpictures/nice_weather/ni...</td>\n",
       "      <td>46.699476</td>\n",
       "      <td>9.440373</td>\n",
       "      <td>703.237</td>\n",
       "      <td>1.710810</td>\n",
       "      <td>-1.723586</td>\n",
       "    </tr>\n",
       "    <tr>\n",
       "      <th>3</th>\n",
       "      <td>Dataset_complete/Trackpictures/nice_weather/ni...</td>\n",
       "      <td>46.699476</td>\n",
       "      <td>9.440373</td>\n",
       "      <td>703.237</td>\n",
       "      <td>1.710810</td>\n",
       "      <td>-1.723586</td>\n",
       "    </tr>\n",
       "    <tr>\n",
       "      <th>4</th>\n",
       "      <td>Dataset_complete/Trackpictures/nice_weather/ni...</td>\n",
       "      <td>46.699476</td>\n",
       "      <td>9.440373</td>\n",
       "      <td>703.237</td>\n",
       "      <td>1.710810</td>\n",
       "      <td>-1.723586</td>\n",
       "    </tr>\n",
       "    <tr>\n",
       "      <th>...</th>\n",
       "      <td>...</td>\n",
       "      <td>...</td>\n",
       "      <td>...</td>\n",
       "      <td>...</td>\n",
       "      <td>...</td>\n",
       "      <td>...</td>\n",
       "    </tr>\n",
       "    <tr>\n",
       "      <th>4895</th>\n",
       "      <td>Dataset_complete/Trackpictures/nice_weather/ni...</td>\n",
       "      <td>46.675433</td>\n",
       "      <td>9.683147</td>\n",
       "      <td>1080.855</td>\n",
       "      <td>-0.128548</td>\n",
       "      <td>1.501823</td>\n",
       "    </tr>\n",
       "    <tr>\n",
       "      <th>4896</th>\n",
       "      <td>Dataset_complete/Trackpictures/nice_weather/ni...</td>\n",
       "      <td>46.675433</td>\n",
       "      <td>9.683147</td>\n",
       "      <td>1080.855</td>\n",
       "      <td>-0.128548</td>\n",
       "      <td>1.501823</td>\n",
       "    </tr>\n",
       "    <tr>\n",
       "      <th>4897</th>\n",
       "      <td>Dataset_complete/Trackpictures/nice_weather/ni...</td>\n",
       "      <td>46.675434</td>\n",
       "      <td>9.683183</td>\n",
       "      <td>1081.366</td>\n",
       "      <td>-0.128472</td>\n",
       "      <td>1.502301</td>\n",
       "    </tr>\n",
       "    <tr>\n",
       "      <th>4898</th>\n",
       "      <td>Dataset_complete/Trackpictures/nice_weather/ni...</td>\n",
       "      <td>46.675434</td>\n",
       "      <td>9.683183</td>\n",
       "      <td>1081.366</td>\n",
       "      <td>-0.128472</td>\n",
       "      <td>1.502301</td>\n",
       "    </tr>\n",
       "    <tr>\n",
       "      <th>4899</th>\n",
       "      <td>Dataset_complete/Trackpictures/nice_weather/ni...</td>\n",
       "      <td>46.675434</td>\n",
       "      <td>9.683183</td>\n",
       "      <td>1081.366</td>\n",
       "      <td>-0.128472</td>\n",
       "      <td>1.502301</td>\n",
       "    </tr>\n",
       "  </tbody>\n",
       "</table>\n",
       "<p>4900 rows × 6 columns</p>\n",
       "</div>"
      ],
      "text/plain": [
       "                                                   path   latitude  longitude  \\\n",
       "0     Dataset_complete/Trackpictures/nice_weather/ni...  46.699552   9.440351   \n",
       "1     Dataset_complete/Trackpictures/nice_weather/ni...  46.699552   9.440351   \n",
       "2     Dataset_complete/Trackpictures/nice_weather/ni...  46.699476   9.440373   \n",
       "3     Dataset_complete/Trackpictures/nice_weather/ni...  46.699476   9.440373   \n",
       "4     Dataset_complete/Trackpictures/nice_weather/ni...  46.699476   9.440373   \n",
       "...                                                 ...        ...        ...   \n",
       "4895  Dataset_complete/Trackpictures/nice_weather/ni...  46.675433   9.683147   \n",
       "4896  Dataset_complete/Trackpictures/nice_weather/ni...  46.675433   9.683147   \n",
       "4897  Dataset_complete/Trackpictures/nice_weather/ni...  46.675434   9.683183   \n",
       "4898  Dataset_complete/Trackpictures/nice_weather/ni...  46.675434   9.683183   \n",
       "4899  Dataset_complete/Trackpictures/nice_weather/ni...  46.675434   9.683183   \n",
       "\n",
       "      altitude  std_latitude  std_longitude  \n",
       "0      703.185      1.716624      -1.723879  \n",
       "1      703.185      1.716624      -1.723879  \n",
       "2      703.237      1.710810      -1.723586  \n",
       "3      703.237      1.710810      -1.723586  \n",
       "4      703.237      1.710810      -1.723586  \n",
       "...        ...           ...            ...  \n",
       "4895  1080.855     -0.128548       1.501823  \n",
       "4896  1080.855     -0.128548       1.501823  \n",
       "4897  1081.366     -0.128472       1.502301  \n",
       "4898  1081.366     -0.128472       1.502301  \n",
       "4899  1081.366     -0.128472       1.502301  \n",
       "\n",
       "[4900 rows x 6 columns]"
      ]
     },
     "execution_count": 538,
     "metadata": {},
     "output_type": "execute_result"
    }
   ],
   "source": [
    "day"
   ]
  },
  {
   "cell_type": "code",
   "execution_count": 539,
   "metadata": {},
   "outputs": [
    {
     "data": {
      "text/plain": [
       "Text(0.5, 1.0, 'Elbow curve')"
      ]
     },
     "execution_count": 539,
     "metadata": {},
     "output_type": "execute_result"
    },
    {
     "data": {
      "image/png": "[encoded data removed]",
      "text/plain": [
       "<Figure size 1080x360 with 1 Axes>"
      ]
     },
     "metadata": {
      "needs_background": "light"
     },
     "output_type": "display_data"
    }
   ],
   "source": [
    "from sklearn.cluster import KMeans\n",
    "import numpy as np\n",
    "from matplotlib import pyplot as plt\n",
    "\n",
    "X = np.array(day[['latitude','longitude']])\n",
    "#kmeans = KMeans(n_clusters=5, random_state=0).fit(X)\n",
    "distorsions = []\n",
    "\n",
    "for k in range(2, 20):\n",
    "    kmeans = KMeans(n_clusters=k)\n",
    "    kmeans.fit(X)\n",
    "    distorsions.append(kmeans.inertia_)\n",
    "\n",
    "fig = plt.figure(figsize=(15, 5))\n",
    "plt.plot(range(2, 20), distorsions)\n",
    "plt.grid(True)\n",
    "plt.title('Elbow curve')"
   ]
  },
  {
   "cell_type": "code",
   "execution_count": 540,
   "metadata": {},
   "outputs": [
    {
     "data": {
      "text/plain": [
       "array([19, 19, 19, ...,  4,  4,  4], dtype=int32)"
      ]
     },
     "execution_count": 540,
     "metadata": {},
     "output_type": "execute_result"
    }
   ],
   "source": [
    "X = np.array(day[['latitude','longitude']])\n",
    "kmeans = KMeans(n_clusters=100, random_state=0).fit(X)\n",
    "kmeans.labels_"
   ]
  },
  {
   "cell_type": "code",
   "execution_count": 541,
   "metadata": {},
   "outputs": [],
   "source": [
    "import pickle\n",
    "with open('kmeans.pickle', 'wb') as handle:\n",
    "    pickle.dump(kmeans, handle, protocol=pickle.HIGHEST_PROTOCOL)"
   ]
  },
  {
   "cell_type": "code",
   "execution_count": 542,
   "metadata": {},
   "outputs": [
    {
     "name": "stdout",
     "output_type": "stream",
     "text": [
      "(4900,)\n",
      "(4900,)\n"
     ]
    }
   ],
   "source": [
    "print(np.array(Y).shape)\n",
    "print(np.array(Y).shape)"
   ]
  },
  {
   "cell_type": "code",
   "execution_count": 543,
   "metadata": {},
   "outputs": [
    {
     "data": {
      "text/plain": [
       "array([ 0,  1,  2,  3,  4,  5,  6,  7,  8,  9, 10, 11, 12, 13, 14, 15, 16,\n",
       "       17, 18, 19, 20, 21, 22, 23, 24, 25, 26, 27, 28, 29, 30, 31, 32, 33,\n",
       "       34, 35, 36, 37, 38, 39, 40, 41, 42, 43, 44, 45, 46, 47, 48, 49, 50,\n",
       "       51, 52, 53, 54, 55, 56, 57, 58, 59, 60, 61, 62, 63, 64, 65, 66, 67,\n",
       "       68, 69, 70, 71, 72, 73, 74, 75, 76, 77, 78, 79, 80, 81, 82, 83, 84,\n",
       "       85, 86, 87, 88, 89, 90, 91, 92, 93, 94, 95, 96, 97, 98, 99],\n",
       "      dtype=int32)"
      ]
     },
     "execution_count": 543,
     "metadata": {},
     "output_type": "execute_result"
    }
   ],
   "source": [
    "Y = []\n",
    "for i in range(0, X.shape[0]):\n",
    "    Y.append((kmeans.predict([X[i]])[0]))\n",
    "\n",
    "np.unique(Y)\n",
    "#plt.plot(X,np.array(Y),'o')\n",
    " "
   ]
  },
  {
   "cell_type": "code",
   "execution_count": 544,
   "metadata": {},
   "outputs": [],
   "source": [
    "dataset = pd.DataFrame({'path': day['path'], 'Column1': X[:, 0], 'Column2': X[:, 1],'Column3': Y})"
   ]
  },
  {
   "cell_type": "code",
   "execution_count": 545,
   "metadata": {},
   "outputs": [
    {
     "data": {
      "text/plain": [
       "<matplotlib.axes._subplots.AxesSubplot at 0x7f16f5bb4990>"
      ]
     },
     "execution_count": 545,
     "metadata": {},
     "output_type": "execute_result"
    },
    {
     "data": {
      "image/png": "[encoded data removed]",
      "text/plain": [
       "<Figure size 432x288 with 1 Axes>"
      ]
     },
     "metadata": {
      "needs_background": "light"
     },
     "output_type": "display_data"
    }
   ],
   "source": [
    "dataset.plot(x='Column1',y='Column2')"
   ]
  },
  {
   "cell_type": "code",
   "execution_count": 546,
   "metadata": {},
   "outputs": [
    {
     "data": {
      "image/png": "[encoded data removed]",
      "text/plain": [
       "<Figure size 432x288 with 1 Axes>"
      ]
     },
     "metadata": {
      "needs_background": "light"
     },
     "output_type": "display_data"
    }
   ],
   "source": [
    "groups = dataset.groupby('Column3')\n",
    "\n",
    "fig, ax = plt.subplots()\n",
    "ax.margins(0.05) # Optional, just adds 5% padding to the autoscaling\n",
    "for name, group in groups:\n",
    "    ax.plot(group.Column1, group.Column2, marker='o', linestyle='', ms=12, label=name)\n",
    "ax.legend()\n",
    "\n",
    "plt.show()"
   ]
  },
  {
   "cell_type": "code",
   "execution_count": 547,
   "metadata": {},
   "outputs": [],
   "source": [
    "import torch\n",
    "import torch.nn as nn\n",
    "import torchvision.models as models\n",
    "import torchvision.transforms as transforms\n",
    "from torch.autograd import Variable\n",
    "from PIL import Image"
   ]
  },
  {
   "cell_type": "code",
   "execution_count": 548,
   "metadata": {},
   "outputs": [],
   "source": [
    "# Load the pretrained model\n",
    "model = models.resnet18(pretrained=True)\n",
    "# Use the model object to select the desired layer\n",
    "layer = model._modules.get('avgpool')"
   ]
  },
  {
   "cell_type": "code",
   "execution_count": 549,
   "metadata": {},
   "outputs": [
    {
     "data": {
      "text/plain": [
       "ResNet(\n",
       "  (conv1): Conv2d(3, 64, kernel_size=(7, 7), stride=(2, 2), padding=(3, 3), bias=False)\n",
       "  (bn1): BatchNorm2d(64, eps=1e-05, momentum=0.1, affine=True, track_running_stats=True)\n",
       "  (relu): ReLU(inplace=True)\n",
       "  (maxpool): MaxPool2d(kernel_size=3, stride=2, padding=1, dilation=1, ceil_mode=False)\n",
       "  (layer1): Sequential(\n",
       "    (0): BasicBlock(\n",
       "      (conv1): Conv2d(64, 64, kernel_size=(3, 3), stride=(1, 1), padding=(1, 1), bias=False)\n",
       "      (bn1): BatchNorm2d(64, eps=1e-05, momentum=0.1, affine=True, track_running_stats=True)\n",
       "      (relu): ReLU(inplace=True)\n",
       "      (conv2): Conv2d(64, 64, kernel_size=(3, 3), stride=(1, 1), padding=(1, 1), bias=False)\n",
       "      (bn2): BatchNorm2d(64, eps=1e-05, momentum=0.1, affine=True, track_running_stats=True)\n",
       "    )\n",
       "    (1): BasicBlock(\n",
       "      (conv1): Conv2d(64, 64, kernel_size=(3, 3), stride=(1, 1), padding=(1, 1), bias=False)\n",
       "      (bn1): BatchNorm2d(64, eps=1e-05, momentum=0.1, affine=True, track_running_stats=True)\n",
       "      (relu): ReLU(inplace=True)\n",
       "      (conv2): Conv2d(64, 64, kernel_size=(3, 3), stride=(1, 1), padding=(1, 1), bias=False)\n",
       "      (bn2): BatchNorm2d(64, eps=1e-05, momentum=0.1, affine=True, track_running_stats=True)\n",
       "    )\n",
       "  )\n",
       "  (layer2): Sequential(\n",
       "    (0): BasicBlock(\n",
       "      (conv1): Conv2d(64, 128, kernel_size=(3, 3), stride=(2, 2), padding=(1, 1), bias=False)\n",
       "      (bn1): BatchNorm2d(128, eps=1e-05, momentum=0.1, affine=True, track_running_stats=True)\n",
       "      (relu): ReLU(inplace=True)\n",
       "      (conv2): Conv2d(128, 128, kernel_size=(3, 3), stride=(1, 1), padding=(1, 1), bias=False)\n",
       "      (bn2): BatchNorm2d(128, eps=1e-05, momentum=0.1, affine=True, track_running_stats=True)\n",
       "      (downsample): Sequential(\n",
       "        (0): Conv2d(64, 128, kernel_size=(1, 1), stride=(2, 2), bias=False)\n",
       "        (1): BatchNorm2d(128, eps=1e-05, momentum=0.1, affine=True, track_running_stats=True)\n",
       "      )\n",
       "    )\n",
       "    (1): BasicBlock(\n",
       "      (conv1): Conv2d(128, 128, kernel_size=(3, 3), stride=(1, 1), padding=(1, 1), bias=False)\n",
       "      (bn1): BatchNorm2d(128, eps=1e-05, momentum=0.1, affine=True, track_running_stats=True)\n",
       "      (relu): ReLU(inplace=True)\n",
       "      (conv2): Conv2d(128, 128, kernel_size=(3, 3), stride=(1, 1), padding=(1, 1), bias=False)\n",
       "      (bn2): BatchNorm2d(128, eps=1e-05, momentum=0.1, affine=True, track_running_stats=True)\n",
       "    )\n",
       "  )\n",
       "  (layer3): Sequential(\n",
       "    (0): BasicBlock(\n",
       "      (conv1): Conv2d(128, 256, kernel_size=(3, 3), stride=(2, 2), padding=(1, 1), bias=False)\n",
       "      (bn1): BatchNorm2d(256, eps=1e-05, momentum=0.1, affine=True, track_running_stats=True)\n",
       "      (relu): ReLU(inplace=True)\n",
       "      (conv2): Conv2d(256, 256, kernel_size=(3, 3), stride=(1, 1), padding=(1, 1), bias=False)\n",
       "      (bn2): BatchNorm2d(256, eps=1e-05, momentum=0.1, affine=True, track_running_stats=True)\n",
       "      (downsample): Sequential(\n",
       "        (0): Conv2d(128, 256, kernel_size=(1, 1), stride=(2, 2), bias=False)\n",
       "        (1): BatchNorm2d(256, eps=1e-05, momentum=0.1, affine=True, track_running_stats=True)\n",
       "      )\n",
       "    )\n",
       "    (1): BasicBlock(\n",
       "      (conv1): Conv2d(256, 256, kernel_size=(3, 3), stride=(1, 1), padding=(1, 1), bias=False)\n",
       "      (bn1): BatchNorm2d(256, eps=1e-05, momentum=0.1, affine=True, track_running_stats=True)\n",
       "      (relu): ReLU(inplace=True)\n",
       "      (conv2): Conv2d(256, 256, kernel_size=(3, 3), stride=(1, 1), padding=(1, 1), bias=False)\n",
       "      (bn2): BatchNorm2d(256, eps=1e-05, momentum=0.1, affine=True, track_running_stats=True)\n",
       "    )\n",
       "  )\n",
       "  (layer4): Sequential(\n",
       "    (0): BasicBlock(\n",
       "      (conv1): Conv2d(256, 512, kernel_size=(3, 3), stride=(2, 2), padding=(1, 1), bias=False)\n",
       "      (bn1): BatchNorm2d(512, eps=1e-05, momentum=0.1, affine=True, track_running_stats=True)\n",
       "      (relu): ReLU(inplace=True)\n",
       "      (conv2): Conv2d(512, 512, kernel_size=(3, 3), stride=(1, 1), padding=(1, 1), bias=False)\n",
       "      (bn2): BatchNorm2d(512, eps=1e-05, momentum=0.1, affine=True, track_running_stats=True)\n",
       "      (downsample): Sequential(\n",
       "        (0): Conv2d(256, 512, kernel_size=(1, 1), stride=(2, 2), bias=False)\n",
       "        (1): BatchNorm2d(512, eps=1e-05, momentum=0.1, affine=True, track_running_stats=True)\n",
       "      )\n",
       "    )\n",
       "    (1): BasicBlock(\n",
       "      (conv1): Conv2d(512, 512, kernel_size=(3, 3), stride=(1, 1), padding=(1, 1), bias=False)\n",
       "      (bn1): BatchNorm2d(512, eps=1e-05, momentum=0.1, affine=True, track_running_stats=True)\n",
       "      (relu): ReLU(inplace=True)\n",
       "      (conv2): Conv2d(512, 512, kernel_size=(3, 3), stride=(1, 1), padding=(1, 1), bias=False)\n",
       "      (bn2): BatchNorm2d(512, eps=1e-05, momentum=0.1, affine=True, track_running_stats=True)\n",
       "    )\n",
       "  )\n",
       "  (avgpool): AdaptiveAvgPool2d(output_size=(1, 1))\n",
       "  (fc): Linear(in_features=512, out_features=1000, bias=True)\n",
       ")"
      ]
     },
     "execution_count": 549,
     "metadata": {},
     "output_type": "execute_result"
    }
   ],
   "source": [
    "# Set model to evaluation mode\n",
    "model.eval()"
   ]
  },
  {
   "cell_type": "code",
   "execution_count": 550,
   "metadata": {},
   "outputs": [
    {
     "name": "stderr",
     "output_type": "stream",
     "text": [
      "/home/rosni/anaconda3/lib/python3.7/site-packages/torchvision/transforms/transforms.py:256: UserWarning: The use of the transforms.Scale transform is deprecated, please use transforms.Resize instead.\n",
      "  warnings.warn(\"The use of the transforms.Scale transform is deprecated, \" +\n"
     ]
    }
   ],
   "source": [
    "scaler = transforms.Scale((224, 224))\n",
    "normalize = transforms.Normalize(mean=[0.485, 0.456, 0.406],\n",
    "                                 std=[0.229, 0.224, 0.225])\n",
    "to_tensor = transforms.ToTensor()"
   ]
  },
  {
   "cell_type": "code",
   "execution_count": 551,
   "metadata": {},
   "outputs": [
    {
     "name": "stdout",
     "output_type": "stream",
     "text": [
      "----------------------------------------------------------------\n",
      "        Layer (type)               Output Shape         Param #\n",
      "================================================================\n",
      "            Conv2d-1           [-1, 64, 32, 32]           9,408\n",
      "       BatchNorm2d-2           [-1, 64, 32, 32]             128\n",
      "              ReLU-3           [-1, 64, 32, 32]               0\n",
      "         MaxPool2d-4           [-1, 64, 16, 16]               0\n",
      "            Conv2d-5           [-1, 64, 16, 16]          36,864\n",
      "       BatchNorm2d-6           [-1, 64, 16, 16]             128\n",
      "              ReLU-7           [-1, 64, 16, 16]               0\n",
      "            Conv2d-8           [-1, 64, 16, 16]          36,864\n",
      "       BatchNorm2d-9           [-1, 64, 16, 16]             128\n",
      "             ReLU-10           [-1, 64, 16, 16]               0\n",
      "       BasicBlock-11           [-1, 64, 16, 16]               0\n",
      "           Conv2d-12           [-1, 64, 16, 16]          36,864\n",
      "      BatchNorm2d-13           [-1, 64, 16, 16]             128\n",
      "             ReLU-14           [-1, 64, 16, 16]               0\n",
      "           Conv2d-15           [-1, 64, 16, 16]          36,864\n",
      "      BatchNorm2d-16           [-1, 64, 16, 16]             128\n",
      "             ReLU-17           [-1, 64, 16, 16]               0\n",
      "       BasicBlock-18           [-1, 64, 16, 16]               0\n",
      "           Conv2d-19            [-1, 128, 8, 8]          73,728\n",
      "      BatchNorm2d-20            [-1, 128, 8, 8]             256\n",
      "             ReLU-21            [-1, 128, 8, 8]               0\n",
      "           Conv2d-22            [-1, 128, 8, 8]         147,456\n",
      "      BatchNorm2d-23            [-1, 128, 8, 8]             256\n",
      "           Conv2d-24            [-1, 128, 8, 8]           8,192\n",
      "      BatchNorm2d-25            [-1, 128, 8, 8]             256\n",
      "             ReLU-26            [-1, 128, 8, 8]               0\n",
      "       BasicBlock-27            [-1, 128, 8, 8]               0\n",
      "           Conv2d-28            [-1, 128, 8, 8]         147,456\n",
      "      BatchNorm2d-29            [-1, 128, 8, 8]             256\n",
      "             ReLU-30            [-1, 128, 8, 8]               0\n",
      "           Conv2d-31            [-1, 128, 8, 8]         147,456\n",
      "      BatchNorm2d-32            [-1, 128, 8, 8]             256\n",
      "             ReLU-33            [-1, 128, 8, 8]               0\n",
      "       BasicBlock-34            [-1, 128, 8, 8]               0\n",
      "           Conv2d-35            [-1, 256, 4, 4]         294,912\n",
      "      BatchNorm2d-36            [-1, 256, 4, 4]             512\n",
      "             ReLU-37            [-1, 256, 4, 4]               0\n",
      "           Conv2d-38            [-1, 256, 4, 4]         589,824\n",
      "      BatchNorm2d-39            [-1, 256, 4, 4]             512\n",
      "           Conv2d-40            [-1, 256, 4, 4]          32,768\n",
      "      BatchNorm2d-41            [-1, 256, 4, 4]             512\n",
      "             ReLU-42            [-1, 256, 4, 4]               0\n",
      "       BasicBlock-43            [-1, 256, 4, 4]               0\n",
      "           Conv2d-44            [-1, 256, 4, 4]         589,824\n",
      "      BatchNorm2d-45            [-1, 256, 4, 4]             512\n",
      "             ReLU-46            [-1, 256, 4, 4]               0\n",
      "           Conv2d-47            [-1, 256, 4, 4]         589,824\n",
      "      BatchNorm2d-48            [-1, 256, 4, 4]             512\n",
      "             ReLU-49            [-1, 256, 4, 4]               0\n",
      "       BasicBlock-50            [-1, 256, 4, 4]               0\n",
      "           Conv2d-51            [-1, 512, 2, 2]       1,179,648\n",
      "      BatchNorm2d-52            [-1, 512, 2, 2]           1,024\n",
      "             ReLU-53            [-1, 512, 2, 2]               0\n",
      "           Conv2d-54            [-1, 512, 2, 2]       2,359,296\n",
      "      BatchNorm2d-55            [-1, 512, 2, 2]           1,024\n",
      "           Conv2d-56            [-1, 512, 2, 2]         131,072\n",
      "      BatchNorm2d-57            [-1, 512, 2, 2]           1,024\n",
      "             ReLU-58            [-1, 512, 2, 2]               0\n",
      "       BasicBlock-59            [-1, 512, 2, 2]               0\n",
      "           Conv2d-60            [-1, 512, 2, 2]       2,359,296\n",
      "      BatchNorm2d-61            [-1, 512, 2, 2]           1,024\n",
      "             ReLU-62            [-1, 512, 2, 2]               0\n",
      "           Conv2d-63            [-1, 512, 2, 2]       2,359,296\n",
      "      BatchNorm2d-64            [-1, 512, 2, 2]           1,024\n",
      "             ReLU-65            [-1, 512, 2, 2]               0\n",
      "       BasicBlock-66            [-1, 512, 2, 2]               0\n",
      "AdaptiveAvgPool2d-67            [-1, 512, 1, 1]               0\n",
      "           Linear-68                 [-1, 1000]         513,000\n",
      "================================================================\n",
      "Total params: 11,689,512\n",
      "Trainable params: 11,689,512\n",
      "Non-trainable params: 0\n",
      "----------------------------------------------------------------\n",
      "Input size (MB): 0.05\n",
      "Forward/backward pass size (MB): 5.14\n",
      "Params size (MB): 44.59\n",
      "Estimated Total Size (MB): 49.78\n",
      "----------------------------------------------------------------\n"
     ]
    }
   ],
   "source": [
    "from torchsummary import summary\n",
    "summary(model,(3,64,64))"
   ]
  },
  {
   "cell_type": "code",
   "execution_count": 552,
   "metadata": {},
   "outputs": [],
   "source": [
    "def get_vector(image_name):\n",
    "    # 1. Load the image with Pillow library\n",
    "    img = Image.open(image_name)\n",
    "    # 2. Create a PyTorch Variable with the transformed image\n",
    "    t_img = Variable(normalize(to_tensor(scaler(img))).unsqueeze(0))\n",
    "    # 3. Create a vector of zeros that will hold our feature vector\n",
    "    #    The 'avgpool' layer has an output size of 512\n",
    "    my_embedding = torch.zeros(512)\n",
    "    # 4. Define a function that will copy the output of a layer\n",
    "    def copy_data(m, i, o):\n",
    "        my_embedding.copy_(o.data.reshape(o.data.size(1)))\n",
    "    # 5. Attach that function to our selected layer\n",
    "    h = layer.register_forward_hook(copy_data)\n",
    "    # 6. Run the model on our transformed image\n",
    "    model(t_img)\n",
    "    # 7. Detach our copy function from the layer\n",
    "    h.remove()\n",
    "    # 8. Return the feature vector\n",
    "    return my_embedding"
   ]
  },
  {
   "cell_type": "code",
   "execution_count": null,
   "metadata": {},
   "outputs": [],
   "source": [
    "feature_vectors = []\n",
    "for i in range(day.shape[0]):\n",
    "    feature_vectors.append(get_vector(day['path'][i]).numpy())"
   ]
  },
  {
   "cell_type": "code",
   "execution_count": 303,
   "metadata": {},
   "outputs": [],
   "source": [
    "#fv = []\n",
    "#for i in feature_vectors:\n",
    "#    fv.append(i.numpy())"
   ]
  },
  {
   "cell_type": "code",
   "execution_count": 313,
   "metadata": {},
   "outputs": [],
   "source": [
    "day[\"feature_vectors\"] = feature_vectors\n",
    "#day[\"feature_vectors\"] = fv"
   ]
  },
  {
   "cell_type": "code",
   "execution_count": 283,
   "metadata": {},
   "outputs": [],
   "source": [
    "fv_array = np.array(fv).shape"
   ]
  },
  {
   "cell_type": "code",
   "execution_count": 314,
   "metadata": {},
   "outputs": [],
   "source": [
    "import pickle\n",
    "with open('feature_vector.pickle', 'wb') as handle:\n",
    "    pickle.dump(day, handle, protocol=pickle.HIGHEST_PROTOCOL)"
   ]
  },
  {
   "cell_type": "code",
   "execution_count": null,
   "metadata": {},
   "outputs": [],
   "source": [
    "#day.to_csv(\"nice_weather_thusis_filisur_withFeatureVector.csv\")"
   ]
  },
  {
   "cell_type": "code",
   "execution_count": 562,
   "metadata": {},
   "outputs": [
    {
     "name": "stdout",
     "output_type": "stream",
     "text": [
      "\n",
      "Cosine similarity: tensor([0.8819])\n",
      "\n"
     ]
    }
   ],
   "source": [
    "#pic_one = str(input(\"Input first image name\\n\"))\n",
    "#pic_two = str(input(\"Input second image name\\n\"))\n",
    "\n",
    "#for i in range(100):\n",
    "pic_one_vector = get_vector(\"Dataset_complete/Trackpictures/nice_weather/nice_weather_thusis_filisur_20200827_pixelated/image_00122.jpg\")\n",
    "pic_two_vector = get_vector(\"Dataset_complete/Trackpictures/bad_weather/bad_weather_thusis_filisur_20200829_pixelated/image_00001.jpg\")\n",
    "\n",
    "# Using PyTorch Cosine Similarity\n",
    "cos = nn.CosineSimilarity(dim=1, eps=1e-6)\n",
    "cos_sim = cos(pic_one_vector.unsqueeze(0),\n",
    "          pic_two_vector.unsqueeze(0))\n",
    "print('\\nCosine similarity: {0}\\n'.format(cos_sim))\n"
   ]
  },
  {
   "cell_type": "code",
   "execution_count": 651,
   "metadata": {},
   "outputs": [],
   "source": [
    "import piexif\n",
    "import operator\n",
    "import tensorflow as tf\n",
    "import pickle\n",
    "\n",
    "real_image = \"Dataset_complete/Trackpictures/bad_weather/bad_weather_thusis_filisur_20200829_pixelated/image_03500.jpg\"\n",
    "with open('feature_vector.pickle', 'rb') as handle:\n",
    "    day = pickle.load(handle)\n",
    "with open('kmeans.pickle', 'rb') as handle:\n",
    "    kmeans = pickle.load(handle)\n",
    "\n",
    "\n",
    "def image_similarity(process_image,real_image):\n",
    "\n",
    "    real_image_gps = []\n",
    "    #day = pd.read_csv(\"nice_weather_thusis_filisur_withFeatureVector.csv\")\n",
    "\n",
    "    exif_dict = piexif.load(real_image)\n",
    "    for tag in exif_dict[\"GPS\"]:\n",
    "        if(piexif.TAGS[\"GPS\"][tag][\"name\"] in [\"GPSLatitude\",\"GPSLongitude\"]):\n",
    "            real_image_gps.append(exif_dict[\"GPS\"][tag][0]/1000000.0)\n",
    "\n",
    "    real_image_cluster = kmeans.predict([np.array(real_image_gps)])[0]\n",
    "    \n",
    "    real_image_feature_vector = get_vector(process_image)\n",
    "    similar_images = {}\n",
    "\n",
    "    for img_path in groups.get_group(real_image_cluster).path:\n",
    "        image_vector = day.loc[day['path'] == img_path]['feature_vectors'].values[0]\n",
    "        cos = nn.CosineSimilarity(dim=1, eps=1e-6)\n",
    "        cos_sim = cos(real_image_feature_vector.unsqueeze(0),\n",
    "              image_vector.unsqueeze(0))\n",
    "        similar_images[img_path] = cos_sim\n",
    "\n",
    "    similar_img_path = max(similar_images.items(), key=operator.itemgetter(1))[0]\n",
    "\n",
    "    return similar_img_path"
   ]
  },
  {
   "cell_type": "code",
   "execution_count": 654,
   "metadata": {},
   "outputs": [
    {
     "name": "stdout",
     "output_type": "stream",
     "text": [
      "Dataset_complete/Trackpictures/night/night_thusis_filisur_20200828/image_03701.jpg\n",
      "Dataset_complete/Trackpictures/night/night_thusis_filisur_20200828/image_03702.jpg\n",
      "Dataset_complete/Trackpictures/night/night_thusis_filisur_20200828/image_03703.jpg\n",
      "Dataset_complete/Trackpictures/night/night_thusis_filisur_20200828/image_03704.jpg\n",
      "Dataset_complete/Trackpictures/night/night_thusis_filisur_20200828/image_03705.jpg\n",
      "Dataset_complete/Trackpictures/night/night_thusis_filisur_20200828/image_03706.jpg\n",
      "Dataset_complete/Trackpictures/night/night_thusis_filisur_20200828/image_03707.jpg\n",
      "Dataset_complete/Trackpictures/night/night_thusis_filisur_20200828/image_03708.jpg\n",
      "Dataset_complete/Trackpictures/night/night_thusis_filisur_20200828/image_03709.jpg\n",
      "Dataset_complete/Trackpictures/night/night_thusis_filisur_20200828/image_03710.jpg\n",
      "Dataset_complete/Trackpictures/night/night_thusis_filisur_20200828/image_03711.jpg\n",
      "Dataset_complete/Trackpictures/night/night_thusis_filisur_20200828/image_03712.jpg\n",
      "Dataset_complete/Trackpictures/night/night_thusis_filisur_20200828/image_03713.jpg\n",
      "Dataset_complete/Trackpictures/night/night_thusis_filisur_20200828/image_03714.jpg\n",
      "Dataset_complete/Trackpictures/night/night_thusis_filisur_20200828/image_03715.jpg\n",
      "Dataset_complete/Trackpictures/night/night_thusis_filisur_20200828/image_03716.jpg\n",
      "Dataset_complete/Trackpictures/night/night_thusis_filisur_20200828/image_03717.jpg\n",
      "Dataset_complete/Trackpictures/night/night_thusis_filisur_20200828/image_03718.jpg\n",
      "Dataset_complete/Trackpictures/night/night_thusis_filisur_20200828/image_03719.jpg\n",
      "Dataset_complete/Trackpictures/night/night_thusis_filisur_20200828/image_03720.jpg\n",
      "Dataset_complete/Trackpictures/night/night_thusis_filisur_20200828/image_03721.jpg\n",
      "Dataset_complete/Trackpictures/night/night_thusis_filisur_20200828/image_03722.jpg\n",
      "Dataset_complete/Trackpictures/night/night_thusis_filisur_20200828/image_03723.jpg\n",
      "Dataset_complete/Trackpictures/night/night_thusis_filisur_20200828/image_03724.jpg\n",
      "Dataset_complete/Trackpictures/night/night_thusis_filisur_20200828/image_03725.jpg\n",
      "Dataset_complete/Trackpictures/night/night_thusis_filisur_20200828/image_03726.jpg\n",
      "Dataset_complete/Trackpictures/night/night_thusis_filisur_20200828/image_03727.jpg\n",
      "Dataset_complete/Trackpictures/night/night_thusis_filisur_20200828/image_03728.jpg\n",
      "Dataset_complete/Trackpictures/night/night_thusis_filisur_20200828/image_03729.jpg\n",
      "Dataset_complete/Trackpictures/night/night_thusis_filisur_20200828/image_03730.jpg\n",
      "Dataset_complete/Trackpictures/night/night_thusis_filisur_20200828/image_03731.jpg\n",
      "Dataset_complete/Trackpictures/night/night_thusis_filisur_20200828/image_03732.jpg\n",
      "Dataset_complete/Trackpictures/night/night_thusis_filisur_20200828/image_03733.jpg\n",
      "Dataset_complete/Trackpictures/night/night_thusis_filisur_20200828/image_03734.jpg\n",
      "Dataset_complete/Trackpictures/night/night_thusis_filisur_20200828/image_03735.jpg\n",
      "Dataset_complete/Trackpictures/night/night_thusis_filisur_20200828/image_03736.jpg\n",
      "Dataset_complete/Trackpictures/night/night_thusis_filisur_20200828/image_03737.jpg\n",
      "Dataset_complete/Trackpictures/night/night_thusis_filisur_20200828/image_03738.jpg\n",
      "Dataset_complete/Trackpictures/night/night_thusis_filisur_20200828/image_03739.jpg\n",
      "Dataset_complete/Trackpictures/night/night_thusis_filisur_20200828/image_03740.jpg\n",
      "Dataset_complete/Trackpictures/night/night_thusis_filisur_20200828/image_03741.jpg\n",
      "Dataset_complete/Trackpictures/night/night_thusis_filisur_20200828/image_03742.jpg\n",
      "Dataset_complete/Trackpictures/night/night_thusis_filisur_20200828/image_03743.jpg\n",
      "Dataset_complete/Trackpictures/night/night_thusis_filisur_20200828/image_03744.jpg\n",
      "Dataset_complete/Trackpictures/night/night_thusis_filisur_20200828/image_03745.jpg\n",
      "Dataset_complete/Trackpictures/night/night_thusis_filisur_20200828/image_03746.jpg\n",
      "Dataset_complete/Trackpictures/night/night_thusis_filisur_20200828/image_03747.jpg\n",
      "Dataset_complete/Trackpictures/night/night_thusis_filisur_20200828/image_03748.jpg\n",
      "Dataset_complete/Trackpictures/night/night_thusis_filisur_20200828/image_03749.jpg\n",
      "Dataset_complete/Trackpictures/night/night_thusis_filisur_20200828/image_03750.jpg\n",
      "Dataset_complete/Trackpictures/night/night_thusis_filisur_20200828/image_03751.jpg\n",
      "Dataset_complete/Trackpictures/night/night_thusis_filisur_20200828/image_03752.jpg\n",
      "Dataset_complete/Trackpictures/night/night_thusis_filisur_20200828/image_03753.jpg\n",
      "Dataset_complete/Trackpictures/night/night_thusis_filisur_20200828/image_03754.jpg\n",
      "Dataset_complete/Trackpictures/night/night_thusis_filisur_20200828/image_03755.jpg\n",
      "Dataset_complete/Trackpictures/night/night_thusis_filisur_20200828/image_03756.jpg\n",
      "Dataset_complete/Trackpictures/night/night_thusis_filisur_20200828/image_03757.jpg\n",
      "Dataset_complete/Trackpictures/night/night_thusis_filisur_20200828/image_03758.jpg\n",
      "Dataset_complete/Trackpictures/night/night_thusis_filisur_20200828/image_03759.jpg\n",
      "Dataset_complete/Trackpictures/night/night_thusis_filisur_20200828/image_03760.jpg\n",
      "Dataset_complete/Trackpictures/night/night_thusis_filisur_20200828/image_03761.jpg\n",
      "Dataset_complete/Trackpictures/night/night_thusis_filisur_20200828/image_03762.jpg\n",
      "Dataset_complete/Trackpictures/night/night_thusis_filisur_20200828/image_03763.jpg\n",
      "Dataset_complete/Trackpictures/night/night_thusis_filisur_20200828/image_03764.jpg\n",
      "Dataset_complete/Trackpictures/night/night_thusis_filisur_20200828/image_03765.jpg\n",
      "Dataset_complete/Trackpictures/night/night_thusis_filisur_20200828/image_03766.jpg\n",
      "Dataset_complete/Trackpictures/night/night_thusis_filisur_20200828/image_03767.jpg\n",
      "Dataset_complete/Trackpictures/night/night_thusis_filisur_20200828/image_03768.jpg\n",
      "Dataset_complete/Trackpictures/night/night_thusis_filisur_20200828/image_03769.jpg\n",
      "Dataset_complete/Trackpictures/night/night_thusis_filisur_20200828/image_03770.jpg\n",
      "Dataset_complete/Trackpictures/night/night_thusis_filisur_20200828/image_03771.jpg\n",
      "Dataset_complete/Trackpictures/night/night_thusis_filisur_20200828/image_03772.jpg\n",
      "Dataset_complete/Trackpictures/night/night_thusis_filisur_20200828/image_03773.jpg\n",
      "Dataset_complete/Trackpictures/night/night_thusis_filisur_20200828/image_03774.jpg\n",
      "Dataset_complete/Trackpictures/night/night_thusis_filisur_20200828/image_03775.jpg\n",
      "Dataset_complete/Trackpictures/night/night_thusis_filisur_20200828/image_03776.jpg\n",
      "Dataset_complete/Trackpictures/night/night_thusis_filisur_20200828/image_03777.jpg\n",
      "Dataset_complete/Trackpictures/night/night_thusis_filisur_20200828/image_03778.jpg\n",
      "Dataset_complete/Trackpictures/night/night_thusis_filisur_20200828/image_03779.jpg\n",
      "Dataset_complete/Trackpictures/night/night_thusis_filisur_20200828/image_03780.jpg\n",
      "Dataset_complete/Trackpictures/night/night_thusis_filisur_20200828/image_03781.jpg\n",
      "Dataset_complete/Trackpictures/night/night_thusis_filisur_20200828/image_03782.jpg\n",
      "Dataset_complete/Trackpictures/night/night_thusis_filisur_20200828/image_03783.jpg\n",
      "Dataset_complete/Trackpictures/night/night_thusis_filisur_20200828/image_03784.jpg\n",
      "Dataset_complete/Trackpictures/night/night_thusis_filisur_20200828/image_03785.jpg\n",
      "Dataset_complete/Trackpictures/night/night_thusis_filisur_20200828/image_03786.jpg\n",
      "Dataset_complete/Trackpictures/night/night_thusis_filisur_20200828/image_03787.jpg\n",
      "Dataset_complete/Trackpictures/night/night_thusis_filisur_20200828/image_03788.jpg\n",
      "Dataset_complete/Trackpictures/night/night_thusis_filisur_20200828/image_03789.jpg\n",
      "Dataset_complete/Trackpictures/night/night_thusis_filisur_20200828/image_03790.jpg\n",
      "Dataset_complete/Trackpictures/night/night_thusis_filisur_20200828/image_03791.jpg\n",
      "Dataset_complete/Trackpictures/night/night_thusis_filisur_20200828/image_03792.jpg\n",
      "Dataset_complete/Trackpictures/night/night_thusis_filisur_20200828/image_03793.jpg\n",
      "Dataset_complete/Trackpictures/night/night_thusis_filisur_20200828/image_03794.jpg\n",
      "Dataset_complete/Trackpictures/night/night_thusis_filisur_20200828/image_03795.jpg\n",
      "Dataset_complete/Trackpictures/night/night_thusis_filisur_20200828/image_03796.jpg\n",
      "Dataset_complete/Trackpictures/night/night_thusis_filisur_20200828/image_03797.jpg\n",
      "Dataset_complete/Trackpictures/night/night_thusis_filisur_20200828/image_03798.jpg\n"
     ]
    }
   ],
   "source": [
    "from shutil import copyfile\n",
    "\n",
    "for i in range(1,99):\n",
    "    file_name = 'night_testing_results/0-10sEqualization/image_037'+'{:02d}'.format(i)+'new0.jpg'\n",
    "    file_name2 = 'Dataset_complete/Trackpictures/night/night_thusis_filisur_20200828/image_037'+'{:02d}'.format(i)+'.jpg'\n",
    "    print(file_name2)\n",
    "    copyfile(image_similarity(file_name,file_name2),'frame_predict/frame_predict_'+str(i)+'.jpg')"
   ]
  },
  {
   "cell_type": "code",
   "execution_count": 625,
   "metadata": {},
   "outputs": [],
   "source": [
    "HackZurich2020/night_testing_results/0-10s_ALLChannelsClahe/image_03701new0.jpg"
   ]
  },
  {
   "cell_type": "code",
   "execution_count": null,
   "metadata": {},
   "outputs": [],
   "source": []
  }
 ],
 "metadata": {
  "kernelspec": {
   "display_name": "Python 3",
   "language": "python",
   "name": "python3"
  },
  "language_info": {
   "codemirror_mode": {
    "name": "ipython",
    "version": 3
   },
   "file_extension": ".py",
   "mimetype": "text/x-python",
   "name": "python",
   "nbconvert_exporter": "python",
   "pygments_lexer": "ipython3",
   "version": "3.7.6"
  }
 },
 "nbformat": 4,
 "nbformat_minor": 4
}
