{
 "cells": [
  {
   "cell_type": "code",
   "execution_count": null,
   "metadata": {},
   "outputs": [],
   "source": [
    "import pandas as pd\n",
    "import geopandas as gpd\n",
    "import numpy as np\n",
    "from shapely.geometry import Point, LineString, shape\n",
    "from PIL import Image, ImageDraw, ImageFont\n",
    "from PIL.ExifTags import TAGS\n",
    "import os\n",
    "from shapely.ops import nearest_points\n",
    "import matplotlib.pyplot as plt\n",
    "import matplotlib.patches as patches\n",
    "import os\n",
    "#import tensorflow as tf\n",
    "import tensorflow.compat.v1 as tf\n",
    "from glob import glob\n",
    "import cv2"
   ]
  },
  {
   "cell_type": "code",
   "execution_count": null,
   "metadata": {},
   "outputs": [],
   "source": [
    "pd.options.display.max_rows = None"
   ]
  },
  {
   "cell_type": "markdown",
   "metadata": {},
   "source": [
    "# Define functions"
   ]
  },
  {
   "cell_type": "code",
   "execution_count": null,
   "metadata": {},
   "outputs": [],
   "source": [
    "def get_dist_to_next_signal(df):\n",
    "    df[\"signal_idx\"] = df.signal_idx.fillna(method=\"bfill\")\n",
    "    df[\"increment\"] = df.to_crs(\"EPSG:21781\").distance(df.to_crs(\"EPSG:21781\").shift(-1))\n",
    "    return df.groupby(\"signal_idx\")[\"increment\"].apply(lambda x: x.iloc[::-1].cumsum().iloc[::-1])\n",
    "    \n",
    "def get_lat_lon(base_path):\n",
    "    def f_inner(image_name):\n",
    "        image = Image.open(base_path + image_name)\n",
    "        exifdata = image.getexif()\n",
    "        lat, lon = [exifdata.get(34853)[i] for i in [2,4]]\n",
    "        return pd.Series({\"fn\": image_name, \"lat\": lat, \"lon\": lon})\n",
    "    return f_inner"
   ]
  },
  {
   "cell_type": "code",
   "execution_count": null,
   "metadata": {},
   "outputs": [],
   "source": [
    "# What model to download.\n",
    "MODEL_NAME = 'ssd_mobilenet_v1_coco_11_06_2017'\n",
    "MODEL_FILE = MODEL_NAME + '.tar.gz'\n",
    "DOWNLOAD_BASE = 'http://download.tensorflow.org/models/object_detection/'\n",
    "\n",
    "# Path to frozen detection graph. This is the actual model that is used for the object detection.\n",
    "model_path = \"./\"\n",
    "PATH_TO_CKPT = model_path + MODEL_NAME + '/frozen_inference_graph.pb'\n",
    "\n",
    "\n",
    "def download_model():\n",
    "    import six.moves.urllib as urllib\n",
    "    import tarfile\n",
    "\n",
    "    opener = urllib.request.URLopener()\n",
    "    opener.retrieve(DOWNLOAD_BASE + MODEL_FILE, MODEL_FILE)\n",
    "    tar_file = tarfile.open(MODEL_FILE)\n",
    "    for file in tar_file.getmembers():\n",
    "        file_name = os.path.basename(file.name)\n",
    "        if 'frozen_inference_graph.pb' in file_name:\n",
    "            tar_file.extract(file, os.getcwd())"
   ]
  },
  {
   "cell_type": "code",
   "execution_count": null,
   "metadata": {},
   "outputs": [],
   "source": [
    "def load_graph():\n",
    "    if not os.path.exists(PATH_TO_CKPT):\n",
    "        download_model()\n",
    "\n",
    "    detection_graph = tf.Graph()\n",
    "    with detection_graph.as_default():\n",
    "        od_graph_def = tf.GraphDef()\n",
    "        with tf.gfile.GFile(PATH_TO_CKPT, 'rb') as fid:\n",
    "            serialized_graph = fid.read()\n",
    "            od_graph_def.ParseFromString(serialized_graph)\n",
    "            tf.import_graph_def(od_graph_def, name='')\n",
    "\n",
    "    return detection_graph\n",
    "\n",
    "def select_boxes(boxes, classes, scores, score_threshold=0, target_class=10):\n",
    "    \"\"\"\n",
    "\n",
    "    :param boxes:\n",
    "    :param classes:\n",
    "    :param scores:\n",
    "    :param target_class: default traffic light id in COCO dataset is 10\n",
    "    :return:\n",
    "    \"\"\"\n",
    "\n",
    "    sq_scores = np.squeeze(scores)\n",
    "    sq_classes = np.squeeze(classes)\n",
    "    sq_boxes = np.squeeze(boxes)\n",
    "\n",
    "    sel_id = np.logical_and(sq_classes == target_class, sq_scores > score_threshold)\n",
    "\n",
    "    return sq_boxes[sel_id]\n",
    "\n",
    "class TLClassifier(object):\n",
    "    def __init__(self):\n",
    "\n",
    "        self.detection_graph = load_graph()\n",
    "        self.extract_graph_components()\n",
    "        self.sess = tf.Session(graph=self.detection_graph)\n",
    "\n",
    "        # run the first session to \"warm up\"\n",
    "        dummy_image = np.zeros((100, 100, 3))\n",
    "        self.detect_multi_object(dummy_image,0.1)\n",
    "        self.traffic_light_box = None\n",
    "        self.classified_index = 0\n",
    "\n",
    "    def extract_graph_components(self):\n",
    "        # Definite input and output Tensors for detection_graph\n",
    "        self.image_tensor = self.detection_graph.get_tensor_by_name('image_tensor:0')\n",
    "        # Each box represents a part of the image where a particular object was detected.\n",
    "        self.detection_boxes = self.detection_graph.get_tensor_by_name('detection_boxes:0')\n",
    "        # Each score represent how level of confidence for each of the objects.\n",
    "        # Score is shown on the result image, together with the class label.\n",
    "        self.detection_scores = self.detection_graph.get_tensor_by_name('detection_scores:0')\n",
    "        self.detection_classes = self.detection_graph.get_tensor_by_name('detection_classes:0')\n",
    "        self.num_detections = self.detection_graph.get_tensor_by_name('num_detections:0')\n",
    "    \n",
    "    def detect_multi_object(self, image_np, score_threshold):\n",
    "        \"\"\"\n",
    "        Return detection boxes in a image\n",
    "\n",
    "        :param image_np:\n",
    "        :param score_threshold:\n",
    "        :return:\n",
    "        \"\"\"\n",
    "\n",
    "        # Expand dimensions since the model expects images to have shape: [1, None, None, 3]\n",
    "        image_np_expanded = np.expand_dims(image_np, axis=0)\n",
    "        # Actual detection.\n",
    "\n",
    "        (boxes, scores, classes, num) = self.sess.run(\n",
    "            [self.detection_boxes, self.detection_scores, self.detection_classes, self.num_detections],\n",
    "            feed_dict={self.image_tensor: image_np_expanded})\n",
    "\n",
    "        sel_boxes = select_boxes(boxes=boxes, classes=classes, scores=scores,\n",
    "                                 score_threshold=score_threshold, target_class=10)\n",
    "\n",
    "        return sel_boxes"
   ]
  },
  {
   "cell_type": "code",
   "execution_count": null,
   "metadata": {},
   "outputs": [],
   "source": [
    "def load_image(directory_name, fn):\n",
    "    im = Image.open(directory_name + \"/\" + fn)\n",
    "    image_np = np.asarray(im)\n",
    "    image_np = image_np[:,:,:3]\n",
    "    return image_np\n",
    "\n",
    "def save_detected_image(im, image_np, boxes, dir_name, fn, distance):\n",
    "    draw = ImageDraw.Draw(im, 'RGBA')   \n",
    "    if ((len(boxes) > 0) & (distance < 40)):\n",
    "        for box in boxes:   \n",
    "            rect = get_rectangle(image_np, box)\n",
    "            draw.rectangle(rect, outline =\"red\")\n",
    "    font = ImageFont.truetype(\"Helvetica.ttc\",40)\n",
    "    \n",
    "    left, top = [40, 640]\n",
    "    width, height = [310, 90]\n",
    "    right, bottom = [left + width, top + height]\n",
    "    font = ImageFont.truetype(\"Helvetica.ttc\",40)\n",
    "    draw.rectangle(((left, top), (right, bottom)), width = 20, fill=(255,255,255,160))\n",
    "    draw.text((left + 10, top + 10), f\"Distance to next\\nsignal: {round(distance)} m\", fill =(0,0,0), font = font)\n",
    "    im.save(dir_name + \"/\" + fn, \"JPEG\")\n",
    "    im.close()\n",
    "    \n",
    "def get_rectangle(image_np, sel_box):\n",
    "    im_height, im_width, _ = image_np.shape\n",
    "    (left, right, top, bottom) = (sel_box[1] * im_width, sel_box[3] * im_width,\n",
    "                                  sel_box[0] * im_height, sel_box[2] * im_height)\n",
    "    box_width = right - left\n",
    "    box_height = bottom - top\n",
    "    return patches.Rectangle((left, top), box_width, box_height,linewidth=1,edgecolor='r',facecolor='none')"
   ]
  },
  {
   "cell_type": "markdown",
   "metadata": {},
   "source": [
    "# Define pathnames"
   ]
  },
  {
   "cell_type": "code",
   "execution_count": null,
   "metadata": {},
   "outputs": [],
   "source": [
    "project_dir = \"/Users/Georg/Dropbox/Work/projects/2020_09_05_hackathon_zurich\"\n",
    "data_dir = f\"{project_dir}/data/Dataset_complete\"\n",
    "image_dir = f\"{data_dir}/Trackpictures/nice_weather/nice_weather_filisur_thusis_20200824_pixelated/\"\n",
    "results_dir = f\"{project_dir}/data/results/\"\n",
    "images_results_dir = f\"{results_dir}/nice_weather_images_detected\""
   ]
  },
  {
   "cell_type": "markdown",
   "metadata": {},
   "source": [
    "# Get signal data"
   ]
  },
  {
   "cell_type": "code",
   "execution_count": null,
   "metadata": {},
   "outputs": [],
   "source": [
    "trackdata_raw = pd.read_csv(f\"{project_dir}/data/Dataset_complete/Trackdata/TrackSiteData_2020_clean.csv\")\n",
    "trackdata = trackdata_raw[[col for col in trackdata_raw.columns if not \"Unnamed\" in col]]\n",
    "signals = (trackdata[trackdata[\"Element Type\"].isin(['Distant signal', 'Main & distant signal', 'Main signal'])]\n",
    "          .dropna(subset=[\"Latitude\", \"Longitude\"]))\n",
    "geometry = [Point(xy) for xy in zip(signals.Longitude, signals.Latitude)]\n",
    "signals_gdf = gpd.GeoDataFrame(signals, geometry=geometry)\n",
    "signals_gdf.crs = \"EPSG:4326\"\n",
    "signals_gdf = signals_gdf.to_crs(\"EPSG:4326\")\n",
    "(signals_gdf\n",
    " .to_csv(f\"{project_dir}/data/Dataset_complete/Trackdata/TrackSiteData_2020_clean_geo.csv\", index = False))"
   ]
  },
  {
   "cell_type": "markdown",
   "metadata": {},
   "source": [
    "# Get geotags from images"
   ]
  },
  {
   "cell_type": "code",
   "execution_count": null,
   "metadata": {},
   "outputs": [],
   "source": [
    "image_names = pd.Series([fn for fn in os.listdir(image_dir) if \"image\" in fn])\n",
    "image_geotags = image_names.apply(get_lat_lon(image_dir))"
   ]
  },
  {
   "cell_type": "code",
   "execution_count": null,
   "metadata": {},
   "outputs": [],
   "source": [
    "image_geotags_gdf = gpd.GeoDataFrame(\n",
    "    image_geotags, geometry=gpd.points_from_xy(image_geotags.lon,image_geotags.lat))\n",
    "image_geotags_gdf.crs = \"EPSG:4326\"\n",
    "image_geotags_gdf = image_geotags_gdf.to_crs(\"EPSG:4326\")\n",
    "image_geotags_gdf = image_geotags_gdf.sort_values(\"fn\").reset_index(drop=True)\n",
    "image_geotags_gdf.to_csv(f\"{project_dir}/data/geotags/nice_weather_filisur_thusis_20200824_geotags.csv\")"
   ]
  },
  {
   "cell_type": "markdown",
   "metadata": {},
   "source": [
    "# Compute upcoming signal"
   ]
  },
  {
   "cell_type": "code",
   "execution_count": null,
   "metadata": {},
   "outputs": [],
   "source": [
    "image_geotags_gdf[\"signal_idx\"] = None\n",
    "for i in signals_gdf.index:\n",
    "    nearest_geom = nearest_points(signals_gdf.loc[i][\"geometry\"], image_geotags_gdf.geometry.unary_union)[1]\n",
    "    nearest = image_geotags_gdf[\"geometry\"] == nearest_geom\n",
    "    signal_index = image_geotags_gdf[nearest].index[0]\n",
    "    image_geotags_gdf.loc[signal_index, \"signal_idx\"] = i\n",
    "    \n",
    "image_geotags_gdf[\"signal_idx\"] = image_geotags_gdf.signal_idx.fillna(method=\"bfill\")\n",
    "image_geotags_gdf[\"distance_to_next_signal\"] = get_dist_to_next_signal(image_geotags_gdf)"
   ]
  },
  {
   "cell_type": "code",
   "execution_count": null,
   "metadata": {},
   "outputs": [],
   "source": [
    "image_geotags_gdf.to_csv(results_dir + \"distance_to_next_signal.csv\", index = False)"
   ]
  },
  {
   "cell_type": "markdown",
   "metadata": {},
   "source": [
    "# Detect railway signals on images and assign distances"
   ]
  },
  {
   "cell_type": "code",
   "execution_count": null,
   "metadata": {},
   "outputs": [],
   "source": [
    "image_names = pd.Series([fn for fn in os.listdir(image_dir) if \"image\" in fn])"
   ]
  },
  {
   "cell_type": "code",
   "execution_count": null,
   "metadata": {},
   "outputs": [],
   "source": [
    "tlc=TLClassifier()"
   ]
  },
  {
   "cell_type": "code",
   "execution_count": null,
   "metadata": {},
   "outputs": [],
   "source": [
    "for fn in image_names.sort_values()[:100]:\n",
    "    im = Image.open(image_dir + \"/\" + fn)\n",
    "    image_np = np.asarray(im)[:,:,:3]\n",
    "    dist = image_geotags_gdf.query(f\"fn=='{fn}'\").distance_to_next_signal.iloc[0]\n",
    "    boxes=tlc.detect_multi_object(image_np, score_threshold=0.1)\n",
    "    save_detected_image(im, image_np, boxes, images_results_dir, fn, dist)"
   ]
  },
  {
   "cell_type": "code",
   "execution_count": null,
   "metadata": {},
   "outputs": [],
   "source": []
  },
  {
   "cell_type": "code",
   "execution_count": null,
   "metadata": {},
   "outputs": [],
   "source": [
    "# upload images to s3 bucket with\n",
    "# aws s3 cp nice_weather_images_detected s3://liftthevail/ModifiedPictures --recursive"
   ]
  }
 ],
 "metadata": {
  "kernelspec": {
   "display_name": "nowyouseeme2",
   "language": "python",
   "name": "nowyouseeme2"
  },
  "language_info": {
   "codemirror_mode": {
    "name": "ipython",
    "version": 3
   },
   "file_extension": ".py",
   "mimetype": "text/x-python",
   "name": "python",
   "nbconvert_exporter": "python",
   "pygments_lexer": "ipython3",
   "version": "3.8.5"
  }
 },
 "nbformat": 4,
 "nbformat_minor": 4
}
