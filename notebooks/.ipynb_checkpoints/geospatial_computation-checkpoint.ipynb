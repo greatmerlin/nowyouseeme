{
 "cells": [
  {
   "cell_type": "code",
   "execution_count": 1,
   "metadata": {},
   "outputs": [],
   "source": [
    "import pandas as pd\n",
    "import geopandas as gpd\n",
    "import numpy as np\n",
    "from shapely.geometry import Point, LineString, shape\n",
    "from PIL import Image\n",
    "from PIL.ExifTags import TAGS\n",
    "import os\n",
    "from shapely.ops import nearest_points"
   ]
  },
  {
   "cell_type": "code",
   "execution_count": null,
   "metadata": {},
   "outputs": [],
   "source": [
    "pd.options.display.max_rows = None"
   ]
  },
  {
   "cell_type": "markdown",
   "metadata": {},
   "source": [
    "# Define functions"
   ]
  },
  {
   "cell_type": "code",
   "execution_count": 2,
   "metadata": {},
   "outputs": [],
   "source": [
    "def sum_up_distances(image_index, signal_index, image_geotags):\n",
    "    if(not (pd.isna(image_index) or pd.isna(signal_index) or np.isnan(image_index) or np.isnan(signal_index))):\n",
    "        image_index = int(image_index)\n",
    "        signal_index = int(signal_index)\n",
    "        distances = image_geotags.distance(image_geotags.shift(-4))\n",
    "        track_dist = distances[image_index:signal_index]\n",
    "        track_images = image_geotags[image_index:signal_index]\n",
    "        lat_diff = track_images.lat.map(float).diff()\n",
    "        lon_diff = track_images.lon.map(float).diff()\n",
    "        clean_distances = track_dist[(lon_diff != 0) & (lat_diff != 0)]\n",
    "        return clean_distances.sum()\n",
    "    else:\n",
    "        return None\n",
    "\n",
    "def get_dist_to_next_signal(df):\n",
    "    df[\"signal_idx\"] = df.signal_idx.fillna(method=\"bfill\")\n",
    "    df[\"increment\"] = df.to_crs(\"EPSG:21781\").distance(df.to_crs(\"EPSG:21781\").shift(-1))\n",
    "    return df.groupby(\"signal_idx\")[\"increment\"].apply(lambda x: x.iloc[::-1].cumsum().iloc[::-1])\n",
    "    \n",
    "def get_lat_lon(base_path):\n",
    "    def f_inner(image_name):\n",
    "        image = Image.open(base_path + image_name)\n",
    "        exifdata = image.getexif()\n",
    "        lat, lon = [exifdata.get(34853)[i] for i in [2,4]]\n",
    "        return pd.Series({\"fn\": image_name, \"lat\": lat, \"lon\": lon})\n",
    "    return f_inner"
   ]
  },
  {
   "cell_type": "code",
   "execution_count": 13,
   "metadata": {},
   "outputs": [],
   "source": [
    "project_dir = \"/Users/Georg/Dropbox/Work/projects/2020_09_05_hackathon_zurich\"\n",
    "data_dir = f\"{project_dir}/data/Dataset_complete\"\n",
    "image_dir = f\"{project_dir}/Trackpictures/nice_weather/nice_weather_filisur_thusis_20200824_pixelated\"\n",
    "results_dir = f\"{project_dir}/data/results/\""
   ]
  },
  {
   "cell_type": "markdown",
   "metadata": {},
   "source": [
    "# Get signal data"
   ]
  },
  {
   "cell_type": "code",
   "execution_count": 4,
   "metadata": {},
   "outputs": [
    {
     "name": "stderr",
     "output_type": "stream",
     "text": [
      "/usr/local/lib/python3.8/site-packages/IPython/core/interactiveshell.py:3145: DtypeWarning: Columns (2,7) have mixed types.Specify dtype option on import or set low_memory=False.\n",
      "  has_raised = await self.run_ast_nodes(code_ast.body, cell_name,\n"
     ]
    }
   ],
   "source": [
    "trackdata_raw = pd.read_csv(f\"{project_dir}/data/Dataset_complete/Trackdata/TrackSiteData_2020_clean.csv\")\n",
    "trackdata = trackdata_raw[[col for col in trackdata_raw.columns if not \"Unnamed\" in col]]\n",
    "signals = (trackdata[trackdata[\"Element Type\"].isin(['Distant signal', 'Main & distant signal', 'Main signal'])]\n",
    "          .dropna(subset=[\"Latitude\", \"Longitude\"]))\n",
    "geometry = [Point(xy) for xy in zip(signals.Longitude, signals.Latitude)]\n",
    "signals_gdf = gpd.GeoDataFrame(signals, geometry=geometry)\n",
    "signals_gdf.crs = \"EPSG:4326\"\n",
    "signals_gdf = signals_gdf.to_crs(\"EPSG:4326\")\n",
    "(signals_gdf\n",
    " .to_csv(f\"{project_dir}/data/Dataset_complete/Trackdata/TrackSiteData_2020_clean_geo.csv\", index = False))"
   ]
  },
  {
   "cell_type": "markdown",
   "metadata": {},
   "source": [
    "# Get railway lines"
   ]
  },
  {
   "cell_type": "code",
   "execution_count": 5,
   "metadata": {},
   "outputs": [],
   "source": [
    "rail_lines = gpd.read_file(f\"{project_dir}/data/railways/railway_lines_wgs84/railway_lines.shp\")\n",
    "rail_lines.to_csv(f\"{project_dir}/data/railways/railway_lines.csv\")"
   ]
  },
  {
   "cell_type": "markdown",
   "metadata": {},
   "source": [
    "# Get geotags from images"
   ]
  },
  {
   "cell_type": "code",
   "execution_count": 6,
   "metadata": {},
   "outputs": [],
   "source": [
    "image_names = pd.Series([fn for fn in os.listdir(directory_name) if \"image\" in fn])\n",
    "image_geotags = image_names.apply(get_lat_lon(directory_name))"
   ]
  },
  {
   "cell_type": "code",
   "execution_count": 7,
   "metadata": {},
   "outputs": [],
   "source": [
    "image_geotags_gdf = gpd.GeoDataFrame(\n",
    "    image_geotags, geometry=gpd.points_from_xy(image_geotags.lon,image_geotags.lat))\n",
    "image_geotags_gdf.crs = \"EPSG:4326\"\n",
    "image_geotags_gdf = image_geotags_gdf.to_crs(\"EPSG:4326\")\n",
    "image_geotags_gdf = image_geotags_gdf.sort_values(\"fn\").reset_index(drop=True)\n",
    "image_geotags_gdf.to_csv(f\"{project_dir}/data/geotags/nice_weather_filisur_thusis_20200824_geotags.csv\")"
   ]
  },
  {
   "cell_type": "markdown",
   "metadata": {},
   "source": [
    "# Compute upcoming signal"
   ]
  },
  {
   "cell_type": "code",
   "execution_count": 8,
   "metadata": {},
   "outputs": [],
   "source": [
    "image_geotags_gdf[\"signal_idx\"] = None\n",
    "for i in signals_gdf.index:\n",
    "    nearest_geom = nearest_points(signals_gdf.loc[i][\"geometry\"], image_geotags_gdf.geometry.unary_union)[1]\n",
    "    nearest = image_geotags_gdf[\"geometry\"] == nearest_geom\n",
    "    signal_index = image_geotags_gdf[nearest].index[0]\n",
    "    image_geotags_gdf.loc[signal_index, \"signal_idx\"] = i\n",
    "    \n",
    "image_geotags_gdf[\"signal_idx\"] = image_geotags_gdf.signal_idx.fillna(method=\"bfill\")\n",
    "image_geotags_gdf[\"distance_to_next_signal\"] = get_dist_to_next_signal(image_geotags_gdf)"
   ]
  },
  {
   "cell_type": "code",
   "execution_count": 14,
   "metadata": {},
   "outputs": [],
   "source": [
    "image_geotags_gdf.to_csv(results_dir + \"distance_to_next_signal.csv\", index = False)"
   ]
  },
  {
   "cell_type": "markdown",
   "metadata": {},
   "source": [
    "# Investigate EXIF data"
   ]
  },
  {
   "cell_type": "code",
   "execution_count": null,
   "metadata": {},
   "outputs": [],
   "source": [
    "image = Image.open(directory_name + image_name)\n",
    "exifdata = image.getexif()"
   ]
  },
  {
   "cell_type": "code",
   "execution_count": null,
   "metadata": {},
   "outputs": [],
   "source": [
    "for tag_id in exifdata:\n",
    "    # get the tag name, instead of human unreadable tag id\n",
    "    tag = TAGS.get(tag_id, tag_id)\n",
    "    data = exifdata.get(tag_id)\n",
    "    # decode bytes \n",
    "    if isinstance(data, bytes):\n",
    "        data = data.decode()\n",
    "    print(f\"{tag:25}: {data}\")"
   ]
  }
 ],
 "metadata": {
  "kernelspec": {
   "display_name": "Python 3",
   "language": "python",
   "name": "python3"
  },
  "language_info": {
   "codemirror_mode": {
    "name": "ipython",
    "version": 3
   },
   "file_extension": ".py",
   "mimetype": "text/x-python",
   "name": "python",
   "nbconvert_exporter": "python",
   "pygments_lexer": "ipython3",
   "version": "3.8.5"
  }
 },
 "nbformat": 4,
 "nbformat_minor": 4
}
